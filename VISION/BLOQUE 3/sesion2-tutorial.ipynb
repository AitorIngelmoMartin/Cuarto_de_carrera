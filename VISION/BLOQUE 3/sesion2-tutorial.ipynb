{
 "cells": [
  {
   "cell_type": "markdown",
   "id": "80d4f429",
   "metadata": {
    "id": "PoTXDJPJGG8f"
   },
   "source": [
    "# Instalación\n",
    "\n",
    "**Los datos necesarios para realizar la práctica están en una carpeta compartida que se llama `data`, situada en \"Shared with me\". Para que el cuaderno pueda acceder a ella es necesario crear un link en \"My Drive\". El link se crea simplemente seleccionando \"data\", y desde el menu del botón derecho seleccione \"Add a shortcut to Drive\".**\n",
    "\n",
    "**Una vez hecho esto, ejecute la siguiente celda. Esta celda montará el directorio de trabajo del cuaderno y verá la carpeta `data` a través del link. Para montar el directorio le pedirá que se registre en \"Drive\"**."
   ]
  },
  {
   "cell_type": "code",
   "execution_count": null,
   "id": "d6246ec8",
   "metadata": {
    "colab": {
     "base_uri": "https://localhost:8080/"
    },
    "id": "wVnLmr6jGG8f",
    "outputId": "94c8d227-606d-446c-dd69-accf30df5300",
    "tags": []
   },
   "outputs": [],
   "source": [
    "## Instalación: esta celda monta el directorio de trabajo\n",
    "if 'google.colab' in str(get_ipython()):\n",
    "    # Setup colab\n",
    "    from google.colab import drive\n",
    "    drive.mount('/drive')\n",
    "    %cd /drive/My Drive/data\n",
    "else:\n",
    "    pass"
   ]
  },
  {
   "cell_type": "markdown",
   "id": "rapid-sapphire",
   "metadata": {
    "id": "rapid-sapphire",
    "papermill": {
     "duration": 0.011816,
     "end_time": "2021-06-03T16:39:49.330610",
     "exception": false,
     "start_time": "2021-06-03T16:39:49.318794",
     "status": "completed"
    },
    "tags": []
   },
   "source": [
    "# Entrenamiento\n",
    "\n",
    "En esta práctica se analiza el proceso de entrenamiento (o aprendizaje) de una red neuronal y se evalúa su resultado. Hasta ahora hemos aprendido a construir redes totalmente conectadas mediante pilas de capas \"densas\". Como se ha visto, cuando se crea por primera vez una red, todos los pesos de la red se configuran con valores aleatorios, ya que la red aún no \"conoce\" los datos y no tiene un criterio de ajuste. Como en todas las tareas de **machine learning**, necesitamos una base de datos para ajustar los pesos (también denominados parámetros) del modelo durante el entrenamiento. En la base de datos, cada muestra contiene las características (columnas), que utilizamos como entradas, mientras que la salida es el objetivo a predecir (columna objetivo). Entrenar una red significa ajustar los pesos para extraer las relaciones entre las características que permiten predecir el objetivo. En la base de datos *80 Cereals*, por ejemplo, queremos que la red sea capaz de predecir las `calorías` de una barrita de cereal a partir del contenido de `azúcar`, `fibra` y `proteínas`. \n",
    "\n",
    "El proceso de entrenamiento requiere de dos herramientas básicas:\n",
    "- Una función de pérdidas, **loss function**, que es  la función a optimizar. Su cometido es medir la calidad de las predicciones de la red.\n",
    "- Un optimizador, **optimizer**, cuyo cometido consiste en modificar los pesos de la red para reducir la función de pérdidas iterativamente."
   ]
  },
  {
   "cell_type": "markdown",
   "id": "0r_cBW7lVaX-",
   "metadata": {
    "id": "0r_cBW7lVaX-"
   },
   "source": [
    "## La función de pérdidas\n",
    "\n",
    "Tenemos las herramientas para diseñar la arquitectura de una red neuronal, pero no sabemos cuantificar la calidad de su funcionamiento. La función de pérdidas --**loss function**-- nos da una métrica de la diferencia entre el valor de la variable objetivo y la predicción que realiza la red. Existen diferentes funciones de pérdidas, según el tipo de problema. En los problemas de regresión, la tarea consiste en predecir un valor numérico: las calorías de una barrita, la valoración de un vino, el precio de una casa, etc. En este tipo de problemas se suele utilizar el **mean absolute error** o **MAE**:\n",
    "\n",
    "$$\\mathrm{MAE} = \\frac{\\sum_{i=1}^{n} \\left|\\mathrm{y_{true}}-\\mathrm{y_{pred}}\\right|}{n}, $$\n",
    "\n",
    "donde `y_true` es el valor real (variable objetivo), `y_pred` es el valor predicho por la red y $n$ es el número de muestras disponibles en la base de datos. La función de pérdidas es el valor medio de los errores cometidos por la red (en valor absoluto) en el conjunto de los datos. En la siguiente figura se muestra un ejemplo de regresión lineal con una variable independiente (característica) y una variable dependiente (objetivo).\n",
    "\n",
    "<figure style=\"padding: 1em;\">\n",
    "<center><img src=\"https://i.imgur.com/VDcvkZN.png\" width=\"500\" alt=\"\"></center>\n",
    "<figcaption style=\"textalign: center; font-style: italic\"><center>El error absoluto medio (MAE) es el promedio de todas las distancias entre la recta predicha por el modelo y los datos experimentales.\n",
    "</center></figcaption>\n",
    "</figure>\n",
    "\n",
    "Además del **MAE**, existen otras funciones de pérdidas que se aplican en problemas de regresión, por ejemplo, el error cuadrático medio (**MSE**). En cualquier caso, el proceso de entrenamiento debería obtener el valor de los pesos que minimizan la función de pérdidas en la base de datos."
   ]
  },
  {
   "cell_type": "markdown",
   "id": "q03yPDwXVizN",
   "metadata": {
    "id": "q03yPDwXVizN"
   },
   "source": [
    "## Optimización\n",
    "\n",
    "Hemos establecido el entrenamiento como un problema de minimización de la función de pérdidas, en esta sección se analiza dicho algoritmo. La mayoría de algoritmos de optimización usados en *deep learning* pertenecen a la familia denominada **stochastic gradient descent** (SGD). Es un proceso iterativo, donde cada iteración consiste en:\n",
    "\n",
    "1. Evaluar un subconjunto de los datos de entrenamiento, introduciéndolos en la red y obtener las predicciones para ese subconjunto. \n",
    "2. Medir las pérdidas entre las predicciones (salidas) y los valores reales (objetivo).\n",
    "3. Modificar los pesos en la dirección donde las pérdidas sean menores, esta dirección viene dada por el gradiente de la función y el método se denomina gradiente descendente.\n",
    "\n",
    "El proceso se repite mientras la función de pérdidas decrezca o hasta que se alcance un número de iteraciones predefinido. Como se ha comentado, en cada iteración se evalúa un subconjunto de la base de datos, el cual se denomina \"lote\", o **batch**. La base de datos se divide en **batches** y cuando se han evaluado todos los **batches** se dice que se ha completado una época en el entrenamiento, es decir, se ha recorrido toda la base de datos. El número de épocas de entrenamiento define el número de veces que la red evalúa cada dato. En la siguiente figura se muestra el proceso de ajuste a una recta mediante batches.\n",
    "\n",
    "<figure style=\"padding: 1em;\"><center>\n",
    "<img src=\"https://i.imgur.com/rFI1tIk.gif\" width=\"800\" alt=\"\">\n",
    "<figcaption style=\"textalign: center; font-style: italic\">Proceso de entrenamiento de una red neuronal mediante el gradiente descendente estocástico. La red está aprendiendo un modelo lineal, lote a lote. Las pérdidas van decreciendo y los pesos se ajustan al valor óptimo.\n",
    "</center></figcaption>\n",
    "</figure>\n",
    "\n",
    "La animación muestra el modelo lineal estudiado anteriormente, el cual ha sido entrenado con **SGD**. Los puntos rojos definen el conjunto completo de entrenamiento. Los puntos rojos intensos constituyen el batch utilizado en cada iteración, de modo que solo se usa un batch para modificar los pesos en la dirección del gradiente descendente. Batch a batch se recorre toda la base de datos y época a época la recta converge al mejor ajuste posible. En este caso los pesos son la pendiente (`w`) y el bias es la ordenada en el origen (`b`). Como se puede ver, la función de pérdidas va disminuyendo mientras los pesos se van aproximando a la solución."
   ]
  },
  {
   "cell_type": "markdown",
   "id": "rrrTwvErl7vH",
   "metadata": {
    "id": "rrrTwvErl7vH"
   },
   "source": [
    "### Velocidad de aprendizaje y tamaño de batch\n",
    "\n",
    "En el proceso de entrenamiento anterior la recta se desplaza en la dirección definida por el gradiente, pero el desplazamiento se realiza en pasos muy pequeños. El tamaño del desplazamiento está definido por un parámetro denominado \"velocidad de aprendizaje\" --**learning rate**--. Un valor reducido hace que la red necesite más iteraciones (batches) hasta alcanzar la convergencia, sin embargo un valor muy grande puede \"saltarse\" el valor óptimo y dificultar la convergencia a la solución. La velocidad de aprendizaje y el tamaño de los batches tiene un gran efecto en el proceso de entrenamiento. Estos dos parámetros son ajustables por el usuario en función del tipo de problema y se denominan **hiperparámetros**. Afortunadamente, en la mayoría de los casos no será necesario encontrar manualmente el valor de los hiperparámetros. De hecho, uno de los algoritmos más utilizados para la optimización, **Adam**, es un algoritmo de **SGD** que tiene un mecanismo adaptativo para estimar automáticamente la velocidad de aprendizaje. **Adam** es un buen optimizador para problemas de propósito general.  "
   ]
  },
  {
   "cell_type": "markdown",
   "id": "FiNUpM6xmAC0",
   "metadata": {
    "id": "FiNUpM6xmAC0"
   },
   "source": [
    "### Configuración del entrenamiento\n",
    "\n",
    "Una vez definido el modelo de red, es necesario añadir la función de pérdidas y el optimizador que vamos a utilizar para entrenar. Esto se hace mediante el método `compile` del modelo.\n",
    "\n",
    "``` python\n",
    "model.compile(\n",
    "    optimizer=\"adam\",\n",
    "    loss=\"mae\",\n",
    ")\n",
    "```\n",
    "Como se puede ver, la configuración del entrenamiento es muy compacta, en una sola línea se ha configurado el optimizador y la función de pérdidas. También se pueden configurar de manera independiente y se pueden ajustar los parámetros propios de cada operación, aunque los parámetros por defecto suelen funcionar bien. \n",
    "\n",
    "<blockquote style=\"margin-right:auto; margin-left:auto; background-color: #ebf9ff; padding: 1em; margin:24px;\">\n",
    "    <strong>Nota: SGD</strong><br>\n",
    "    \n",
    "El gradiente de una función es un vector que define la dirección en la que la función decrece (con signo negativo). Si modificamos los pesos en la dirección de ese vector, la función de pérdidas decrecerá, por eso se llama gradiente descendente. La velocidad de aprendizaje es un factor multiplicativo en el módulo de ese vector, por tanto define el tamaño del desplazamiento. Por otro lado, el proceso de entrenamiento se denomina estocástico porque no estamos usando todos los datos para actualizar los pesos, estamos utilizando solamente los datos de un **batch**, el cual ha sido generado aleatoriamente a partir de la base de datos. Al realizar una iteración por cada **batch** se agiliza mucho el proceso, ya que no se requiere la evaluación de todos los datos para realizar un paso de optimización. Por otro lado, al considerar los datos de forma parcial (en forma de **batches**), el desplazamiento puede tener un comportamiento aleatorio o ruidoso, lo cual puede ser interesante para escapar de posibles mínimos locales de la función. \n",
    "</blockquote>"
   ]
  },
  {
   "cell_type": "markdown",
   "id": "continent-statistics",
   "metadata": {
    "id": "continent-statistics",
    "papermill": {
     "duration": 0.00973,
     "end_time": "2021-06-03T16:39:49.350591",
     "exception": false,
     "start_time": "2021-06-03T16:39:49.340861",
     "status": "completed"
    },
    "tags": []
   },
   "source": [
    "## Ejemplo\n",
    "\n",
    "En este ejemplo se muestra el proceso de entrenamiento en el modelo que predice la calidad de un vino a partir de sus características físico-químicas. En primer lugar cargamos la base de datos *Red Wine Quality*. En la base de datos separamos las entradas (características) y la salida (objetivo). Separamos los datos en dos conjuntos, uno de entrenamiento y otro de validación (posteriormente trataremos este detalle), y finalmente re-escalamos las características para que todas tomen valores en el intervalo $[0, 1]$. Como veremos más tarde, las redes neuronales suelen funcionar mejor cuando las entradas vienen dadas en una escala común, ya que en principio todas tienen la misma importancia. \n",
    "\n",
    "En primer lugar importamos las librerías necesarias:"
   ]
  },
  {
   "cell_type": "code",
   "execution_count": 2,
   "id": "4bf95253-dd1f-41c8-a5a4-3ed351c2811e",
   "metadata": {
    "_kg_hide-input": true,
    "colab": {
     "base_uri": "https://localhost:8080/",
     "height": 207
    },
    "executionInfo": {
     "elapsed": 193,
     "status": "ok",
     "timestamp": 1631440426517,
     "user": {
      "displayName": "pivc jose",
      "photoUrl": "https://lh3.googleusercontent.com/a/default-user=s64",
      "userId": "04575703174273275617"
     },
     "user_tz": -120
    },
    "id": "unable-keeping",
    "lines_to_next_cell": 0,
    "outputId": "263e5890-5115-4d2f-a82b-1ab4dea4f068",
    "papermill": {
     "duration": 0.106036,
     "end_time": "2021-06-03T16:39:49.466672",
     "exception": false,
     "start_time": "2021-06-03T16:39:49.360636",
     "status": "completed"
    },
    "tags": []
   },
   "outputs": [],
   "source": [
    "import pandas as pd\n",
    "from IPython.display import display\n",
    "import matplotlib.pyplot as plt\n",
    "from tensorflow import keras\n",
    "from tensorflow.keras import layers"
   ]
  },
  {
   "cell_type": "markdown",
   "id": "a3312d4b-2fab-40c1-bc22-5a2c576136f9",
   "metadata": {
    "_kg_hide-input": true,
    "colab": {
     "base_uri": "https://localhost:8080/",
     "height": 207
    },
    "executionInfo": {
     "elapsed": 193,
     "status": "ok",
     "timestamp": 1631440426517,
     "user": {
      "displayName": "pivc jose",
      "photoUrl": "https://lh3.googleusercontent.com/a/default-user=s64",
      "userId": "04575703174273275617"
     },
     "user_tz": -120
    },
    "id": "unable-keeping",
    "lines_to_next_cell": 0,
    "outputId": "263e5890-5115-4d2f-a82b-1ab4dea4f068",
    "papermill": {
     "duration": 0.106036,
     "end_time": "2021-06-03T16:39:49.466672",
     "exception": false,
     "start_time": "2021-06-03T16:39:49.360636",
     "status": "completed"
    },
    "tags": []
   },
   "source": [
    "Cargamos la base de datos y generamos dos conjuntos, el de entrenamiento y el de validación, finalmente visualizamos el conjunto de entrenamiento:"
   ]
  },
  {
   "cell_type": "code",
   "execution_count": 3,
   "id": "767ed0ab-0e24-4f85-ba47-b994d9d8cfc2",
   "metadata": {
    "_kg_hide-input": true,
    "colab": {
     "base_uri": "https://localhost:8080/",
     "height": 207
    },
    "executionInfo": {
     "elapsed": 193,
     "status": "ok",
     "timestamp": 1631440426517,
     "user": {
      "displayName": "pivc jose",
      "photoUrl": "https://lh3.googleusercontent.com/a/default-user=s64",
      "userId": "04575703174273275617"
     },
     "user_tz": -120
    },
    "id": "unable-keeping",
    "lines_to_next_cell": 0,
    "outputId": "263e5890-5115-4d2f-a82b-1ab4dea4f068",
    "papermill": {
     "duration": 0.106036,
     "end_time": "2021-06-03T16:39:49.466672",
     "exception": false,
     "start_time": "2021-06-03T16:39:49.360636",
     "status": "completed"
    },
    "tags": []
   },
   "outputs": [
    {
     "data": {
      "text/html": [
       "<div>\n",
       "<style scoped>\n",
       "    .dataframe tbody tr th:only-of-type {\n",
       "        vertical-align: middle;\n",
       "    }\n",
       "\n",
       "    .dataframe tbody tr th {\n",
       "        vertical-align: top;\n",
       "    }\n",
       "\n",
       "    .dataframe thead th {\n",
       "        text-align: right;\n",
       "    }\n",
       "</style>\n",
       "<table border=\"1\" class=\"dataframe\">\n",
       "  <thead>\n",
       "    <tr style=\"text-align: right;\">\n",
       "      <th></th>\n",
       "      <th>fixed acidity</th>\n",
       "      <th>volatile acidity</th>\n",
       "      <th>citric acid</th>\n",
       "      <th>residual sugar</th>\n",
       "      <th>chlorides</th>\n",
       "      <th>free sulfur dioxide</th>\n",
       "      <th>total sulfur dioxide</th>\n",
       "      <th>density</th>\n",
       "      <th>pH</th>\n",
       "      <th>sulphates</th>\n",
       "      <th>alcohol</th>\n",
       "      <th>quality</th>\n",
       "    </tr>\n",
       "  </thead>\n",
       "  <tbody>\n",
       "    <tr>\n",
       "      <th>1109</th>\n",
       "      <td>10.8</td>\n",
       "      <td>0.470</td>\n",
       "      <td>0.43</td>\n",
       "      <td>2.10</td>\n",
       "      <td>0.171</td>\n",
       "      <td>27.0</td>\n",
       "      <td>66.0</td>\n",
       "      <td>0.99820</td>\n",
       "      <td>3.17</td>\n",
       "      <td>0.76</td>\n",
       "      <td>10.8</td>\n",
       "      <td>6</td>\n",
       "    </tr>\n",
       "    <tr>\n",
       "      <th>1032</th>\n",
       "      <td>8.1</td>\n",
       "      <td>0.820</td>\n",
       "      <td>0.00</td>\n",
       "      <td>4.10</td>\n",
       "      <td>0.095</td>\n",
       "      <td>5.0</td>\n",
       "      <td>14.0</td>\n",
       "      <td>0.99854</td>\n",
       "      <td>3.36</td>\n",
       "      <td>0.53</td>\n",
       "      <td>9.6</td>\n",
       "      <td>5</td>\n",
       "    </tr>\n",
       "    <tr>\n",
       "      <th>1002</th>\n",
       "      <td>9.1</td>\n",
       "      <td>0.290</td>\n",
       "      <td>0.33</td>\n",
       "      <td>2.05</td>\n",
       "      <td>0.063</td>\n",
       "      <td>13.0</td>\n",
       "      <td>27.0</td>\n",
       "      <td>0.99516</td>\n",
       "      <td>3.26</td>\n",
       "      <td>0.84</td>\n",
       "      <td>11.7</td>\n",
       "      <td>7</td>\n",
       "    </tr>\n",
       "    <tr>\n",
       "      <th>487</th>\n",
       "      <td>10.2</td>\n",
       "      <td>0.645</td>\n",
       "      <td>0.36</td>\n",
       "      <td>1.80</td>\n",
       "      <td>0.053</td>\n",
       "      <td>5.0</td>\n",
       "      <td>14.0</td>\n",
       "      <td>0.99820</td>\n",
       "      <td>3.17</td>\n",
       "      <td>0.42</td>\n",
       "      <td>10.0</td>\n",
       "      <td>6</td>\n",
       "    </tr>\n",
       "  </tbody>\n",
       "</table>\n",
       "</div>"
      ],
      "text/plain": [
       "      fixed acidity  volatile acidity  citric acid  residual sugar  chlorides  \\\n",
       "1109           10.8             0.470         0.43            2.10      0.171   \n",
       "1032            8.1             0.820         0.00            4.10      0.095   \n",
       "1002            9.1             0.290         0.33            2.05      0.063   \n",
       "487            10.2             0.645         0.36            1.80      0.053   \n",
       "\n",
       "      free sulfur dioxide  total sulfur dioxide  density    pH  sulphates  \\\n",
       "1109                 27.0                  66.0  0.99820  3.17       0.76   \n",
       "1032                  5.0                  14.0  0.99854  3.36       0.53   \n",
       "1002                 13.0                  27.0  0.99516  3.26       0.84   \n",
       "487                   5.0                  14.0  0.99820  3.17       0.42   \n",
       "\n",
       "      alcohol  quality  \n",
       "1109     10.8        6  \n",
       "1032      9.6        5  \n",
       "1002     11.7        7  \n",
       "487      10.0        6  "
      ]
     },
     "metadata": {},
     "output_type": "display_data"
    }
   ],
   "source": [
    "red_wine = pd.read_csv('data_m3/datasets/red-wine.csv')\n",
    "# Create training and validation splits\n",
    "df_train = red_wine.sample(frac=0.7, random_state=0)\n",
    "df_valid = red_wine.drop(df_train.index)\n",
    "display(df_train.head(4))"
   ]
  },
  {
   "cell_type": "markdown",
   "id": "08f07c25-9667-4f15-b754-6c05802b2edb",
   "metadata": {
    "_kg_hide-input": true,
    "colab": {
     "base_uri": "https://localhost:8080/",
     "height": 207
    },
    "executionInfo": {
     "elapsed": 193,
     "status": "ok",
     "timestamp": 1631440426517,
     "user": {
      "displayName": "pivc jose",
      "photoUrl": "https://lh3.googleusercontent.com/a/default-user=s64",
      "userId": "04575703174273275617"
     },
     "user_tz": -120
    },
    "id": "unable-keeping",
    "lines_to_next_cell": 0,
    "outputId": "263e5890-5115-4d2f-a82b-1ab4dea4f068",
    "papermill": {
     "duration": 0.106036,
     "end_time": "2021-06-03T16:39:49.466672",
     "exception": false,
     "start_time": "2021-06-03T16:39:49.360636",
     "status": "completed"
    },
    "tags": []
   },
   "source": [
    "Normalizamos los datos y extraemos por un lado las características (variables independientes) y por otro el objetivo (la variable objetivo):"
   ]
  },
  {
   "cell_type": "code",
   "execution_count": 4,
   "id": "41dc5dc9-9ef5-47aa-9c97-459181a052ec",
   "metadata": {
    "_kg_hide-input": true,
    "colab": {
     "base_uri": "https://localhost:8080/",
     "height": 207
    },
    "executionInfo": {
     "elapsed": 193,
     "status": "ok",
     "timestamp": 1631440426517,
     "user": {
      "displayName": "pivc jose",
      "photoUrl": "https://lh3.googleusercontent.com/a/default-user=s64",
      "userId": "04575703174273275617"
     },
     "user_tz": -120
    },
    "id": "unable-keeping",
    "lines_to_next_cell": 0,
    "outputId": "263e5890-5115-4d2f-a82b-1ab4dea4f068",
    "papermill": {
     "duration": 0.106036,
     "end_time": "2021-06-03T16:39:49.466672",
     "exception": false,
     "start_time": "2021-06-03T16:39:49.360636",
     "status": "completed"
    },
    "tags": []
   },
   "outputs": [],
   "source": [
    "# Scale to [0, 1]\n",
    "max_ = df_train.max(axis=0)\n",
    "min_ = df_train.min(axis=0)\n",
    "df_train = (df_train - min_) / (max_ - min_)\n",
    "df_valid = (df_valid - min_) / (max_ - min_)\n",
    "\n",
    "# Split features and target\n",
    "X_train = df_train.drop('quality', axis=1)\n",
    "y_train = df_train['quality']\n",
    "X_valid = df_valid.drop('quality', axis=1)\n",
    "y_valid = df_valid['quality']"
   ]
  },
  {
   "cell_type": "markdown",
   "id": "fd26e70d-5e77-4bc1-a18a-0298cfba281d",
   "metadata": {
    "_kg_hide-input": true,
    "colab": {
     "base_uri": "https://localhost:8080/",
     "height": 207
    },
    "executionInfo": {
     "elapsed": 193,
     "status": "ok",
     "timestamp": 1631440426517,
     "user": {
      "displayName": "pivc jose",
      "photoUrl": "https://lh3.googleusercontent.com/a/default-user=s64",
      "userId": "04575703174273275617"
     },
     "user_tz": -120
    },
    "id": "unable-keeping",
    "lines_to_next_cell": 0,
    "outputId": "263e5890-5115-4d2f-a82b-1ab4dea4f068",
    "papermill": {
     "duration": 0.106036,
     "end_time": "2021-06-03T16:39:49.466672",
     "exception": false,
     "start_time": "2021-06-03T16:39:49.360636",
     "status": "completed"
    },
    "tags": []
   },
   "source": [
    "Visualizamos las variables de entrada (características):"
   ]
  },
  {
   "cell_type": "code",
   "execution_count": 5,
   "id": "fc8f6312-c246-4759-8497-1ca40165e149",
   "metadata": {
    "_kg_hide-input": true,
    "colab": {
     "base_uri": "https://localhost:8080/",
     "height": 207
    },
    "executionInfo": {
     "elapsed": 193,
     "status": "ok",
     "timestamp": 1631440426517,
     "user": {
      "displayName": "pivc jose",
      "photoUrl": "https://lh3.googleusercontent.com/a/default-user=s64",
      "userId": "04575703174273275617"
     },
     "user_tz": -120
    },
    "id": "unable-keeping",
    "lines_to_next_cell": 0,
    "outputId": "263e5890-5115-4d2f-a82b-1ab4dea4f068",
    "papermill": {
     "duration": 0.106036,
     "end_time": "2021-06-03T16:39:49.466672",
     "exception": false,
     "start_time": "2021-06-03T16:39:49.360636",
     "status": "completed"
    },
    "tags": []
   },
   "outputs": [
    {
     "data": {
      "text/html": [
       "<div>\n",
       "<style scoped>\n",
       "    .dataframe tbody tr th:only-of-type {\n",
       "        vertical-align: middle;\n",
       "    }\n",
       "\n",
       "    .dataframe tbody tr th {\n",
       "        vertical-align: top;\n",
       "    }\n",
       "\n",
       "    .dataframe thead th {\n",
       "        text-align: right;\n",
       "    }\n",
       "</style>\n",
       "<table border=\"1\" class=\"dataframe\">\n",
       "  <thead>\n",
       "    <tr style=\"text-align: right;\">\n",
       "      <th></th>\n",
       "      <th>fixed acidity</th>\n",
       "      <th>volatile acidity</th>\n",
       "      <th>citric acid</th>\n",
       "      <th>residual sugar</th>\n",
       "      <th>chlorides</th>\n",
       "      <th>free sulfur dioxide</th>\n",
       "      <th>total sulfur dioxide</th>\n",
       "      <th>density</th>\n",
       "      <th>pH</th>\n",
       "      <th>sulphates</th>\n",
       "      <th>alcohol</th>\n",
       "    </tr>\n",
       "  </thead>\n",
       "  <tbody>\n",
       "    <tr>\n",
       "      <th>1109</th>\n",
       "      <td>0.548673</td>\n",
       "      <td>0.239726</td>\n",
       "      <td>0.544304</td>\n",
       "      <td>0.092308</td>\n",
       "      <td>0.237435</td>\n",
       "      <td>0.366197</td>\n",
       "      <td>0.212014</td>\n",
       "      <td>0.619193</td>\n",
       "      <td>0.291262</td>\n",
       "      <td>0.260606</td>\n",
       "      <td>0.369231</td>\n",
       "    </tr>\n",
       "    <tr>\n",
       "      <th>1032</th>\n",
       "      <td>0.309735</td>\n",
       "      <td>0.479452</td>\n",
       "      <td>0.000000</td>\n",
       "      <td>0.246154</td>\n",
       "      <td>0.105719</td>\n",
       "      <td>0.056338</td>\n",
       "      <td>0.028269</td>\n",
       "      <td>0.645088</td>\n",
       "      <td>0.475728</td>\n",
       "      <td>0.121212</td>\n",
       "      <td>0.184615</td>\n",
       "    </tr>\n",
       "    <tr>\n",
       "      <th>1002</th>\n",
       "      <td>0.398230</td>\n",
       "      <td>0.116438</td>\n",
       "      <td>0.417722</td>\n",
       "      <td>0.088462</td>\n",
       "      <td>0.050260</td>\n",
       "      <td>0.169014</td>\n",
       "      <td>0.074205</td>\n",
       "      <td>0.387662</td>\n",
       "      <td>0.378641</td>\n",
       "      <td>0.309091</td>\n",
       "      <td>0.507692</td>\n",
       "    </tr>\n",
       "    <tr>\n",
       "      <th>487</th>\n",
       "      <td>0.495575</td>\n",
       "      <td>0.359589</td>\n",
       "      <td>0.455696</td>\n",
       "      <td>0.069231</td>\n",
       "      <td>0.032929</td>\n",
       "      <td>0.056338</td>\n",
       "      <td>0.028269</td>\n",
       "      <td>0.619193</td>\n",
       "      <td>0.291262</td>\n",
       "      <td>0.054545</td>\n",
       "      <td>0.246154</td>\n",
       "    </tr>\n",
       "  </tbody>\n",
       "</table>\n",
       "</div>"
      ],
      "text/plain": [
       "      fixed acidity  volatile acidity  citric acid  residual sugar  chlorides  \\\n",
       "1109       0.548673          0.239726     0.544304        0.092308   0.237435   \n",
       "1032       0.309735          0.479452     0.000000        0.246154   0.105719   \n",
       "1002       0.398230          0.116438     0.417722        0.088462   0.050260   \n",
       "487        0.495575          0.359589     0.455696        0.069231   0.032929   \n",
       "\n",
       "      free sulfur dioxide  total sulfur dioxide   density        pH  \\\n",
       "1109             0.366197              0.212014  0.619193  0.291262   \n",
       "1032             0.056338              0.028269  0.645088  0.475728   \n",
       "1002             0.169014              0.074205  0.387662  0.378641   \n",
       "487              0.056338              0.028269  0.619193  0.291262   \n",
       "\n",
       "      sulphates   alcohol  \n",
       "1109   0.260606  0.369231  \n",
       "1032   0.121212  0.184615  \n",
       "1002   0.309091  0.507692  \n",
       "487    0.054545  0.246154  "
      ]
     },
     "metadata": {},
     "output_type": "display_data"
    }
   ],
   "source": [
    "display(X_train.head(4))"
   ]
  },
  {
   "cell_type": "markdown",
   "id": "12e4d984-1924-4432-8a5a-65bae83d4f9d",
   "metadata": {
    "_kg_hide-input": true,
    "colab": {
     "base_uri": "https://localhost:8080/",
     "height": 207
    },
    "executionInfo": {
     "elapsed": 193,
     "status": "ok",
     "timestamp": 1631440426517,
     "user": {
      "displayName": "pivc jose",
      "photoUrl": "https://lh3.googleusercontent.com/a/default-user=s64",
      "userId": "04575703174273275617"
     },
     "user_tz": -120
    },
    "id": "unable-keeping",
    "lines_to_next_cell": 0,
    "outputId": "263e5890-5115-4d2f-a82b-1ab4dea4f068",
    "papermill": {
     "duration": 0.106036,
     "end_time": "2021-06-03T16:39:49.466672",
     "exception": false,
     "start_time": "2021-06-03T16:39:49.360636",
     "status": "completed"
    },
    "tags": []
   },
   "source": [
    "Visualizamos la variable a predecir (objetivo):"
   ]
  },
  {
   "cell_type": "code",
   "execution_count": 6,
   "id": "80f8a9de-47b1-485b-b673-c2d68480348a",
   "metadata": {
    "_kg_hide-input": true,
    "colab": {
     "base_uri": "https://localhost:8080/",
     "height": 207
    },
    "executionInfo": {
     "elapsed": 193,
     "status": "ok",
     "timestamp": 1631440426517,
     "user": {
      "displayName": "pivc jose",
      "photoUrl": "https://lh3.googleusercontent.com/a/default-user=s64",
      "userId": "04575703174273275617"
     },
     "user_tz": -120
    },
    "id": "unable-keeping",
    "lines_to_next_cell": 0,
    "outputId": "263e5890-5115-4d2f-a82b-1ab4dea4f068",
    "papermill": {
     "duration": 0.106036,
     "end_time": "2021-06-03T16:39:49.466672",
     "exception": false,
     "start_time": "2021-06-03T16:39:49.360636",
     "status": "completed"
    },
    "tags": []
   },
   "outputs": [
    {
     "data": {
      "text/plain": [
       "1109    0.6\n",
       "1032    0.4\n",
       "1002    0.8\n",
       "487     0.6\n",
       "Name: quality, dtype: float64"
      ]
     },
     "metadata": {},
     "output_type": "display_data"
    }
   ],
   "source": [
    "display(y_train.head(4))"
   ]
  },
  {
   "cell_type": "markdown",
   "id": "activated-corpus",
   "metadata": {
    "id": "activated-corpus",
    "papermill": {
     "duration": 0.010882,
     "end_time": "2021-06-03T16:39:49.489193",
     "exception": false,
     "start_time": "2021-06-03T16:39:49.478311",
     "status": "completed"
    },
    "tags": []
   },
   "source": [
    "Como se ha visto en la práctica anterior, la red toma como entradas (o características) las columnas en la base de datos exceptuando la columna a predecir, que en este caso es la calidad del vino."
   ]
  },
  {
   "cell_type": "code",
   "execution_count": 7,
   "id": "integral-resource",
   "metadata": {
    "colab": {
     "base_uri": "https://localhost:8080/"
    },
    "executionInfo": {
     "elapsed": 220,
     "status": "ok",
     "timestamp": 1631438565605,
     "user": {
      "displayName": "pivc jose",
      "photoUrl": "https://lh3.googleusercontent.com/a/default-user=s64",
      "userId": "04575703174273275617"
     },
     "user_tz": -120
    },
    "id": "integral-resource",
    "lines_to_next_cell": 2,
    "outputId": "69b63b3f-dec6-4f07-e707-184209a263ff",
    "papermill": {
     "duration": 0.020093,
     "end_time": "2021-06-03T16:39:49.520659",
     "exception": false,
     "start_time": "2021-06-03T16:39:49.500566",
     "status": "completed"
    },
    "tags": []
   },
   "outputs": [
    {
     "name": "stdout",
     "output_type": "stream",
     "text": [
      "(1119, 11)\n"
     ]
    }
   ],
   "source": [
    "print(X_train.shape)"
   ]
  },
  {
   "cell_type": "markdown",
   "id": "beginning-length",
   "metadata": {
    "id": "beginning-length",
    "papermill": {
     "duration": 0.011212,
     "end_time": "2021-06-03T16:39:49.543635",
     "exception": false,
     "start_time": "2021-06-03T16:39:49.532423",
     "status": "completed"
    },
    "tags": []
   },
   "source": [
    "Son 11 columnas y por tanto 11 variables de entrada, además tenemos 1119 muestras de vinos para realizar el ajuste. Hemos elegido una red con tres capas, cada una de ellas con 512 neuronas. Esto debería ser suficiente para aprender las relaciones entre las diferentes características que hacen posible predecir la calidad del vino."
   ]
  },
  {
   "cell_type": "code",
   "execution_count": 15,
   "id": "personal-contamination",
   "metadata": {
    "id": "personal-contamination",
    "papermill": {
     "duration": 5.737616,
     "end_time": "2021-06-03T16:39:55.292879",
     "exception": false,
     "start_time": "2021-06-03T16:39:49.555263",
     "status": "completed"
    },
    "tags": []
   },
   "outputs": [],
   "source": [
    "model = keras.Sequential([\n",
    "    layers.Dense(512, activation='relu', input_shape=[11]),\n",
    "    layers.Dense(512, activation='relu'),\n",
    "    layers.Dense(512, activation='relu'),\n",
    "    layers.Dense(1),\n",
    "])"
   ]
  },
  {
   "cell_type": "markdown",
   "id": "cardiac-newton",
   "metadata": {
    "id": "cardiac-newton",
    "papermill": {
     "duration": 0.011023,
     "end_time": "2021-06-03T16:39:55.315380",
     "exception": false,
     "start_time": "2021-06-03T16:39:55.304357",
     "status": "completed"
    },
    "tags": []
   },
   "source": [
    "Decidir la arquitectura de la red es una parte importante del proceso, es interesante comenzar con una estructura sencilla y entrenarla. Cuando se ha entrenado, se mide su rendimiento evaluando las pérdidas en un conjunto de datos diferente al de entrenamiento: el conjunto de validación. De este modo simulamos el funcionamiento de la red en condiciones realistas, en condiciones de predicción con datos nuevos. Si el resultado no es satisfactorio, se suele aumentar el tamaño de la estructura de la red poco a poco. Una vez definido el modelo, lo compilamos con el optimizador y la definición de la función de pérdidas."
   ]
  },
  {
   "cell_type": "code",
   "execution_count": 9,
   "id": "broad-wrist",
   "metadata": {
    "id": "broad-wrist",
    "papermill": {
     "duration": 0.031809,
     "end_time": "2021-06-03T16:39:55.358442",
     "exception": false,
     "start_time": "2021-06-03T16:39:55.326633",
     "status": "completed"
    },
    "tags": []
   },
   "outputs": [],
   "source": [
    "model.compile(\n",
    "    optimizer='adam',\n",
    "    loss='mae',\n",
    ")"
   ]
  },
  {
   "cell_type": "markdown",
   "id": "thrown-groove",
   "metadata": {
    "id": "thrown-groove",
    "papermill": {
     "duration": 0.011527,
     "end_time": "2021-06-03T16:39:55.383073",
     "exception": false,
     "start_time": "2021-06-03T16:39:55.371546",
     "status": "completed"
    },
    "tags": []
   },
   "source": [
    "Configuramos el entrenamiento con el método `.fit` del modelo `model`. La optimización se realizará en batches de 256 muestras (`batch_size`) y vamos a recorrer 10 veces la base de datos, por tanto tendremos 10 épocas. "
   ]
  },
  {
   "cell_type": "code",
   "execution_count": 10,
   "id": "exterior-salmon",
   "metadata": {
    "colab": {
     "base_uri": "https://localhost:8080/"
    },
    "executionInfo": {
     "elapsed": 3495,
     "status": "ok",
     "timestamp": 1631438583392,
     "user": {
      "displayName": "pivc jose",
      "photoUrl": "https://lh3.googleusercontent.com/a/default-user=s64",
      "userId": "04575703174273275617"
     },
     "user_tz": -120
    },
    "id": "exterior-salmon",
    "outputId": "c86c85e5-23ac-468b-be6e-f462c7afe0e4",
    "papermill": {
     "duration": 2.26011,
     "end_time": "2021-06-03T16:39:57.654875",
     "exception": false,
     "start_time": "2021-06-03T16:39:55.394765",
     "status": "completed"
    },
    "tags": []
   },
   "outputs": [
    {
     "name": "stdout",
     "output_type": "stream",
     "text": [
      "Epoch 1/10\n",
      "5/5 [==============================] - 0s 30ms/step - loss: 0.2688 - val_loss: 0.1333\n",
      "Epoch 2/10\n",
      "5/5 [==============================] - 0s 8ms/step - loss: 0.1404 - val_loss: 0.1228\n",
      "Epoch 3/10\n",
      "5/5 [==============================] - 0s 8ms/step - loss: 0.1253 - val_loss: 0.1159\n",
      "Epoch 4/10\n",
      "5/5 [==============================] - 0s 8ms/step - loss: 0.1138 - val_loss: 0.1085\n",
      "Epoch 5/10\n",
      "5/5 [==============================] - 0s 8ms/step - loss: 0.1104 - val_loss: 0.1171\n",
      "Epoch 6/10\n",
      "5/5 [==============================] - 0s 10ms/step - loss: 0.1091 - val_loss: 0.1039\n",
      "Epoch 7/10\n",
      "5/5 [==============================] - 0s 8ms/step - loss: 0.1072 - val_loss: 0.1042\n",
      "Epoch 8/10\n",
      "5/5 [==============================] - 0s 8ms/step - loss: 0.1053 - val_loss: 0.1042\n",
      "Epoch 9/10\n",
      "5/5 [==============================] - 0s 8ms/step - loss: 0.1023 - val_loss: 0.0996\n",
      "Epoch 10/10\n",
      "5/5 [==============================] - 0s 9ms/step - loss: 0.1022 - val_loss: 0.1112\n"
     ]
    }
   ],
   "source": [
    "out = model.fit(\n",
    "    X_train, y_train,\n",
    "    validation_data=(X_valid, y_valid),\n",
    "    batch_size=256,\n",
    "    epochs=10,\n",
    ")"
   ]
  },
  {
   "cell_type": "markdown",
   "id": "vanilla-commitment",
   "metadata": {
    "id": "vanilla-commitment",
    "papermill": {
     "duration": 0.017833,
     "end_time": "2021-06-03T16:39:57.691047",
     "exception": false,
     "start_time": "2021-06-03T16:39:57.673214",
     "status": "completed"
    },
    "tags": []
   },
   "source": [
    "Según se produce el entrenamiento, *Keras* va informando del valor de la función de pérdidas, época a época. `loss` es el valor de las pérdidas en el conjunto de entrenamiento y `val_loss` son las pérdidas en el conjunto de validación. En general, suele ser más interesante realizar un gráfico con las pérdidas al final del entrenamiento. Para ello, el método `fit` guarda un histórico del proceso de entrenamiento, `out.history`. El histórico incluye la evolución de la función de pérdidas. Por comodidad hemos convertido el formato del histórico en un tipo de dato denominado `DataFrame` de la librería *Pandas*, esto hace la representación más sencilla.\n",
    "\n",
    "<blockquote style=\"margin-right:auto; margin-left:auto; background-color: #ebf9ff; padding: 1em; margin:24px;\">\n",
    "    <strong>Nota:</strong><br>\n",
    "    \n",
    "**Pandas** es una librería para la gestión de bases de datos. El formato básico de los datos es el `DataFrame`, que se puede entender como una estructura de datos tabular, similar a la que tendríamos en Excel.\n",
    "</blockquote>"
   ]
  },
  {
   "cell_type": "markdown",
   "id": "environmental-least",
   "metadata": {
    "colab": {
     "base_uri": "https://localhost:8080/",
     "height": 281
    },
    "executionInfo": {
     "elapsed": 536,
     "status": "ok",
     "timestamp": 1631440478757,
     "user": {
      "displayName": "pivc jose",
      "photoUrl": "https://lh3.googleusercontent.com/a/default-user=s64",
      "userId": "04575703174273275617"
     },
     "user_tz": -120
    },
    "id": "environmental-least",
    "lines_to_next_cell": 2,
    "outputId": "0578c644-fa5f-4063-80f9-65470ffebbf2",
    "papermill": {
     "duration": 0.212211,
     "end_time": "2021-06-03T16:39:57.921573",
     "exception": false,
     "start_time": "2021-06-03T16:39:57.709362",
     "status": "completed"
    },
    "tags": []
   },
   "source": [
    "En la siguiente celda se muestra el gráfico de las pérdidas en el conjunto de entrenamiento. En la gráfica se puede ver cómo las pérdidas se estabilizan y parecen alcanzar una asíntota horizontal. Esta situación suele ser típica cuando la red ha aprendido todo lo que puede y no es necesario aumentar el número de épocas, ya que es poco probable obtener mejoras apreciables."
   ]
  },
  {
   "cell_type": "code",
   "execution_count": 11,
   "id": "410fe29f",
   "metadata": {},
   "outputs": [
    {
     "data": {
      "image/png": "[encoded data removed]",
      "text/plain": [
       "<Figure size 640x480 with 1 Axes>"
      ]
     },
     "metadata": {},
     "output_type": "display_data"
    }
   ],
   "source": [
    "# convert the training history to a dataframe\n",
    "history_df = pd.DataFrame(out.history)\n",
    "# use Pandas native plot method\n",
    "ax = history_df['loss'].plot();\n",
    "ax.set(xlabel='Épocas', ylabel='Pérdidas'),plt.grid()\n",
    "plt.show()"
   ]
  },
  {
   "cell_type": "markdown",
   "id": "equivalent-occasion",
   "metadata": {
    "id": "equivalent-occasion",
    "papermill": {
     "duration": 0.009182,
     "end_time": "2021-06-03T16:39:46.821467",
     "exception": false,
     "start_time": "2021-06-03T16:39:46.812285",
     "status": "completed"
    },
    "tags": []
   },
   "source": [
    "## Análisis del entrenamiento\n",
    "\n",
    "Inicialmente se han construido dos bases de datos diferentes: un subconjunto para el entrenamiento y otro para la validación. El conjunto de validación se usa para medir la calidad de las salidas de la red cuando se le pasan datos nuevos, que no están en el conjunto de entrenamiento. Si la red funciona bien con estos datos, se dice que la red está **generalizando** bien. En otras palabras, la red ha sido capaz de extraer las relaciones entre los datos y el modelo ya no depende de los datos en cuestión. Las pérdidas obtenidas en el conjunto de entrenamiento se comparan con las del conjunto de validación en una gráfica denominada curva de aprendizaje. A partir del análisis de la curva de aprendizaje podemos detectar y solventar los dos problemas más típicos del entrenamiento: el *underfitting* y el *overfitting*."
   ]
  },
  {
   "cell_type": "markdown",
   "id": "ftDTUdiAWM15",
   "metadata": {
    "id": "ftDTUdiAWM15"
   },
   "source": [
    "### Interpretación de las curvas de aprendizaje\n",
    "\n",
    "Es interesante pensar que los datos contienen dos componentes, una de señal (información) y otra de ruido. El ruido puede deberse a muchas causas y puede despistar al algoritmo de optimización. La parte correspondiente a la información es la que contiene las relaciones entre variables que definen la salida, por tanto permiten que la red aprenda a predecirla. Por otro lado, el ruido es aleatorio y toda la información que la red extraiga de él será errónea, ya que su comportamiento será diferente e impredecible cuando se consideren datos nuevos. El entrenamiento permite obtener los pesos que minimizan la función de pérdidas en el conjunto de datos de entrenamiento, sin embargo, una vez entrenado, el modelo verá datos nuevos cuando funcione en condiciones de predicción. Por esta razón, es interesante medir las pérdidas del modelo sobre un conjunto de datos que **no** se han utilizado para el entrenamiento: el conjunto de validación. De hecho, *Keras* mide automáticamente las pérdidas en el conjunto de validación en cada época y lo almacena en el registro histórico, de modo que se puede representar la evolución histórica de la función de pérdidas en el conjunto de entrenamiento y validación simultáneamente. Estas gráficas se denominan curvas de aprendizaje, un ejemplo se muestra en la siguiente figura:\n",
    "\n",
    "<figure style=\"padding: 1em;\"><center>\n",
    "<img src=\"https://i.imgur.com/tHiVFnM.png\" width=\"500\" alt=\"\">\n",
    "<figcaption style=\"textalign: center; font-style: italic\">Curvas de aprendizaje, las pérdidas en el conjunto de validación son el error que comete la red con los datos que no ha visto durante el entrenamiento, por tanto suele ser superior a las pérdidas en el conjunto de entrenamiento.\n",
    "</center></figcaption>\n",
    "</figure>\n",
    "\n",
    "El error de entrenamiento se puede reducir por dos motivos: porque la red aprenda la componente de información o porque aprenda la componente de ruido. Sin embargo, las pérdidas en el conjunto de validación solo se reducen si la red aprende la señal, ya que el ruido no es el mismo que el del conjunto de entrenamiento. Cuando la red aprende únicamente la componente de información ambas curvas se reducen, pero si la red aprende el ruido las curvas se separan. La distancia entre las dos gráficas es una medida de la cantidad de ruido que la red ha aprendido. El modelo ideal es el que aprende toda la componente de señal y nada del ruido, pero en la práctica esto nunca sucede y es necesario llegar a un compromiso. Incluso, en ocasiones tenemos que asumir que se aprenda algo de ruido para poder aprender más señal. Si el balance neto entre aprender señal y aprender ruido es favorable a la señal, la gráfica de validación seguirá reduciéndose. Por el contrario, si la red aprende más ruido que señal el error de validación aumentará. En la práctica, es necesario llegar a un compromiso entre dos situaciones: o bien se ha aprendido poco, o bien se ha aprendido demasiado, lo cual quiere decir que se ha aprendido ruido. El caso en el cual se ha aprendido poco se denomina infra-ajuste, **Underfitting**, y las pérdidas (tanto de entrenamiento como validación) no son tan reducidas como podrían ser. El caso en el que se ha aprendido demasiado se denomina sobre-ajuste, **Overfitting**, y las pérdidas de validación no son tan reducidas como podrían ser, ya que el modelo ha aprendido demasiado ruido. El desafío en el entrenamiento consiste en encontrar el mejor balance posible entre los dos fenómenos. En la siguiente gráfica se muestran los resultados de las dos situaciones: en la gráfica de la izquierda la red no ha aprendido suficiente información, se produce  **Underfitting**, ya que los datos contienen una dependencia cuadrática y la red ha aprendido una dependencia lineal. En la gráfica de la derecha se produce **Overfitting** porque la red ha aprendido la estructura del ruido e intenta reproducirla.\n",
    "\n",
    "<figure style=\"padding: 1em;\"><center>\n",
    "<img src=\"https://i.imgur.com/eUF6mfo.png\" width=\"600\" alt=\"\">\n",
    "<figcaption style=\"textalign: center; font-style: italic\">Representación del fenómeno de **underfitting** y **overfitting**.\n",
    "</center></figcaption>\n",
    "</figure>\n",
    "\n",
    "Existen diferentes técnicas para favorecer el aprendizaje de señal y reducir el aprendizaje del ruido, se llaman genéricamente técnicas de **regularización**."
   ]
  },
  {
   "cell_type": "markdown",
   "id": "i_sce6NvWQc8",
   "metadata": {
    "id": "i_sce6NvWQc8"
   },
   "source": [
    "### Capacidad\n",
    "\n",
    "La **capacidad** de un modelo tiene que ver con su tamaño, que a su vez está relacionado con la capacidad de ajuste y con la complejidad de los patrones que es capaz de aprender en los datos. En el caso de las redes neuronales, la capacidad viene determinada por el número de neuronas y la estructura de las capas (tanto el número como el tipo de capas). Es interesante aumentar la capacidad cuando la red no es capaz de aprender toda la señal: se puede aumentar *anchura* de la red aumentando el número de neuronas en las capas o la *profundidad*, añadiendo más capas. Las redes más anchas aprenden mejor las relaciones lineales, mientras que las más profundas son mejores con las relaciones no lineales, ya que tienen más activaciones, que son funciones no lienales. Según la estructura de los datos, es más favorable una u otra estrategia. A continuación se muestran las dos opciones para aumentar la capacidad de un modelo: el aumento de la anchura y la profundidad.\n",
    "\n",
    "``` python\n",
    "model = keras.Sequential([\n",
    "    layers.Dense(16, activation='relu'),\n",
    "    layers.Dense(1),\n",
    "])\n",
    "\n",
    "wider = keras.Sequential([\n",
    "    layers.Dense(32, activation='relu'),\n",
    "    layers.Dense(1),\n",
    "])\n",
    "\n",
    "deeper = keras.Sequential([\n",
    "    layers.Dense(16, activation='relu'),\n",
    "    layers.Dense(16, activation='relu'),\n",
    "    layers.Dense(1),\n",
    "])\n",
    "```"
   ]
  },
  {
   "cell_type": "markdown",
   "id": "nZXP53K6WSBk",
   "metadata": {
    "id": "nZXP53K6WSBk"
   },
   "source": [
    "### Parada temprana\n",
    "\n",
    "Cuando un modelo está aprendiendo demasiado ruido, las pérdidas de validación suelen comenzar a aumentar durante el proceso de entrenamiento. Para evitar esto, podemos simplemente detener el entrenamiento cuando las pérdidas de validación han dejado de disminuir. Interrumpir el entrenamiento de esta manera se llama **parada temprana**, o **early stopping**. Una vez que las pérdidas de validación comienzan a aumentar, el proceso se interrumpe y los pesos se re-establecen en la situación del mínimo. Esto asegura que el modelo no continue aprendiendo el ruido, y por tanto, sobreajustando los datos.\n",
    "\n",
    "<figure style=\"padding: 1em;\"><center>\n",
    "<img src=\"https://i.imgur.com/eP0gppr.png\" width=500 alt=\"\">\n",
    "<figcaption style=\"textalign: center; font-style: italic\"> Curvas de aprendizaje con parada temprana, en la izquierda del punto de parada existe *underfitting* y a la derecha hay *overfitting*.\n",
    "</center></figcaption>\n",
    "</figure>\n",
    "\n",
    "Entrenar con **early stopping** también reduce el peligro de parar el entrenamiento demasiado pronto, antes de que la red haya terminado de aprender la componente de información. Así que, además de evitar el *sobreajuste* por entrenar demasiado tiempo, también evitamos el *infra-ajuste* por no entrenar lo suficiente. Esta técnica se configura aumentando mucho el número de épocas de entrenamiento y el proceso de **early stopping** interrumpe el entrenamiento cuando se cumplan unos requisitos predefinidos. En *Keras*, la parada temprana se incluye en el proceso de entrenamiento a través de un **callback**.  Un **callback** es simplemente una función que se ejecuta cada cierto tiempo mientras la red se entrena, en nuestro caso se ejecuta después de cada época. *Keras* tiene [una variedad de callbacks útiles](https://www.tensorflow.org/api_docs/python/tf/keras/callbacks) predefinidos, pero también se pueden definir [otros](https://www.tensorflow.org/api_docs/python/tf/keras/callbacks/LambdaCallback). \n",
    "\n",
    "Examinemos el siguiente código:"
   ]
  },
  {
   "cell_type": "code",
   "execution_count": 12,
   "id": "animal-percentage",
   "metadata": {
    "id": "animal-percentage",
    "papermill": {
     "duration": 6.509757,
     "end_time": "2021-06-03T16:39:53.338847",
     "exception": false,
     "start_time": "2021-06-03T16:39:46.829090",
     "status": "completed"
    },
    "tags": []
   },
   "outputs": [],
   "source": [
    "from tensorflow.keras.callbacks import EarlyStopping\n",
    "\n",
    "early_stopping = EarlyStopping(\n",
    "    min_delta=0.001, # minimium amount of change to count as an improvement\n",
    "    patience=20, # how many epochs to wait before stopping\n",
    "    restore_best_weights=True,\n",
    ")"
   ]
  },
  {
   "cell_type": "markdown",
   "id": "ePU3VRnZW5E1",
   "metadata": {
    "id": "ePU3VRnZW5E1"
   },
   "source": [
    "La configuración anterior establece: \"Si no ha habido al menos una mejora de $0.001$ en la pérdida de validación sobre las 20 épocas anteriores, entonces detenga el entrenamiento y restaure el mejor modelo encontrado\". A veces puede ser difícil saber si las pérdidas de validación están aumentando debido al sobreajuste o simplemente debido a la variación aleatoria de cada `batch`. Por esa razón, se permite cierto margen a través de los parámetros `patience` y `min_delta`. Como veremos en el ejemplo siguiente, pasaremos este **callback** al método de entrenamiento `fit`, junto con la pérdida y el optimizador."
   ]
  },
  {
   "cell_type": "markdown",
   "id": "oi1CR6UzXIXT",
   "metadata": {
    "id": "oi1CR6UzXIXT"
   },
   "source": [
    "## Ejemplo\n",
    "\n",
    "A continuación aumentamos la capacidad de la red, pero añadiremos un proceso de parada temprana para evitar el sobreajuste. En este caso, optamos por una red bastante grande, confiando en que el **callback** detenga el entrenamiento una vez que las pérdidas de validación muestren signos de sobreajuste."
   ]
  },
  {
   "cell_type": "code",
   "execution_count": 13,
   "id": "alpha-exhaust",
   "metadata": {
    "id": "alpha-exhaust",
    "papermill": {
     "duration": 0.135639,
     "end_time": "2021-06-03T16:39:53.621523",
     "exception": false,
     "start_time": "2021-06-03T16:39:53.485884",
     "status": "completed"
    },
    "tags": []
   },
   "outputs": [],
   "source": [
    "model = keras.Sequential([\n",
    "    layers.Dense(512, activation='relu', input_shape=[11]),\n",
    "    layers.Dense(512, activation='relu'),\n",
    "    layers.Dense(512, activation='relu'),\n",
    "    layers.Dense(1),\n",
    "])\n",
    "model.compile(\n",
    "    optimizer='adam',\n",
    "    loss='mae',\n",
    ")"
   ]
  },
  {
   "cell_type": "markdown",
   "id": "annoying-render",
   "metadata": {
    "id": "annoying-render",
    "papermill": {
     "duration": 0.008056,
     "end_time": "2021-06-03T16:39:53.637985",
     "exception": false,
     "start_time": "2021-06-03T16:39:53.629929",
     "status": "completed"
    },
    "tags": []
   },
   "source": [
    "Después de definir el **callback** se añade como argumento en el método de entrenamiento `.fit` (podemos tener varios, así que se suele poner en una lista de **callbacks**). Cuando se utiliza la parada temprana se configura un gran número de épocas, confiando la parada en el **callback**."
   ]
  },
  {
   "cell_type": "code",
   "execution_count": 14,
   "id": "random-company",
   "metadata": {
    "colab": {
     "base_uri": "https://localhost:8080/",
     "height": 314
    },
    "executionInfo": {
     "elapsed": 11217,
     "status": "ok",
     "timestamp": 1631607306289,
     "user": {
      "displayName": "pivc jose",
      "photoUrl": "https://lh3.googleusercontent.com/a/default-user=s64",
      "userId": "04575703174273275617"
     },
     "user_tz": -120
    },
    "id": "random-company",
    "outputId": "9b4e514f-c3e0-44a0-ab82-d124a50e0232",
    "papermill": {
     "duration": 9.484457,
     "end_time": "2021-06-03T16:40:03.132891",
     "exception": false,
     "start_time": "2021-06-03T16:39:53.648434",
     "status": "completed"
    },
    "tags": []
   },
   "outputs": [
    {
     "data": {
      "image/png": "[encoded data removed]",
      "text/plain": [
       "<Figure size 640x480 with 1 Axes>"
      ]
     },
     "metadata": {},
     "output_type": "display_data"
    },
    {
     "name": "stdout",
     "output_type": "stream",
     "text": [
      "Minimum validation loss: 0.09043488651514053\n"
     ]
    }
   ],
   "source": [
    "history = model.fit(\n",
    "    X_train, y_train,\n",
    "    validation_data=(X_valid, y_valid),\n",
    "    batch_size=256,\n",
    "    epochs=500,\n",
    "    callbacks=[early_stopping], # put your callbacks in a list\n",
    "    verbose=0,  # turn off training log\n",
    ")\n",
    "\n",
    "history_df = pd.DataFrame(history.history)\n",
    "ax = history_df.loc[:, ['loss', 'val_loss']].plot();\n",
    "ax.set(xlabel='Épocas', ylabel='Pérdidas'),plt.grid()\n",
    "plt.show()\n",
    "print(\"Minimum validation loss: {}\".format(history_df['val_loss'].min()))"
   ]
  },
  {
   "cell_type": "markdown",
   "id": "purple-concentrate",
   "metadata": {
    "id": "purple-concentrate",
    "papermill": {
     "duration": 0.010054,
     "end_time": "2021-06-03T16:40:03.152978",
     "exception": false,
     "start_time": "2021-06-03T16:40:03.142924",
     "status": "completed"
    },
    "tags": []
   },
   "source": [
    "Como se puede ver, el entrenamiento se ha detenido mucho antes de las 500 épocas predefinidas. Nótese que se ha obtenido un error (MAE) en la calificación del vino de 0.1!!!."
   ]
  }
 ],
 "metadata": {
  "colab": {
   "collapsed_sections": [
    "0r_cBW7lVaX-",
    "rrrTwvErl7vH",
    "FiNUpM6xmAC0",
    "ftDTUdiAWM15",
    "i_sce6NvWQc8"
   ],
   "name": "sesion2-entrenamiento.ipynb",
   "provenance": [],
   "toc_visible": true
  },
  "jupytext": {
   "cell_metadata_filter": "-all",
   "formats": "ipynb"
  },
  "kernelspec": {
   "display_name": "Python 3.10.6 64-bit",
   "language": "python",
   "name": "python3"
  },
  "language_info": {
   "codemirror_mode": {
    "name": "ipython",
    "version": 3
   },
   "file_extension": ".py",
   "mimetype": "text/x-python",
   "name": "python",
   "nbconvert_exporter": "python",
   "pygments_lexer": "ipython3",
   "version": "3.10.6"
  },
  "papermill": {
   "default_parameters": {},
   "duration": 15.83577,
   "end_time": "2021-06-03T16:39:59.065293",
   "environment_variables": {},
   "exception": null,
   "input_path": "__notebook__.ipynb",
   "output_path": "__notebook__.ipynb",
   "parameters": {},
   "start_time": "2021-06-03T16:39:43.229523",
   "version": "2.3.2"
  },
  "vscode": {
   "interpreter": {
    "hash": "916dbcbb3f70747c44a77c7bcd40155683ae19c65e1c03b4aa3499c5328201f1"
   }
  }
 },
 "nbformat": 4,
 "nbformat_minor": 5
}
