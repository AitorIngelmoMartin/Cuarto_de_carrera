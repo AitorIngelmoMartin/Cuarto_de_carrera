{
 "cells": [
  {
   "cell_type": "markdown",
   "id": "80d4f429",
   "metadata": {
    "id": "PoTXDJPJGG8f"
   },
   "source": [
    "# Instalación\n",
    "\n",
    "**Los datos necesarios para realizar la práctica están en una carpeta compartida que se llama `data`, situada en \"Shared with me\". Para que el cuaderno pueda acceder a ella es necesario crear un link en \"My Drive\". El link se crea simplemente seleccionando \"data\", y desde el menu del botón derecho seleccione \"Add a shortcut to Drive\".**\n",
    "\n",
    "**Una vez hecho esto, ejecute la siguiente celda. Esta celda montará el directorio de trabajo del cuaderno y verá la carpeta `data` a través del link. Para montar el directorio le pedirá que se registre en \"Drive\"**."
   ]
  },
  {
   "cell_type": "code",
   "execution_count": null,
   "id": "d6246ec8",
   "metadata": {
    "colab": {
     "base_uri": "https://localhost:8080/"
    },
    "id": "wVnLmr6jGG8f",
    "outputId": "94c8d227-606d-446c-dd69-accf30df5300",
    "tags": []
   },
   "outputs": [],
   "source": [
    "## Instalación: esta celda monta el directorio de trabajo\n",
    "if 'google.colab' in str(get_ipython()):\n",
    "    # Setup colab\n",
    "    from google.colab import drive\n",
    "    drive.mount('/drive')\n",
    "    %cd /drive/My Drive/data\n",
    "else:\n",
    "    pass"
   ]
  },
  {
   "cell_type": "markdown",
   "id": "described-auditor",
   "metadata": {
    "id": "described-auditor",
    "papermill": {
     "duration": 0.007958,
     "end_time": "2021-06-03T16:39:54.588852",
     "exception": false,
     "start_time": "2021-06-03T16:39:54.580894",
     "status": "completed"
    },
    "tags": []
   },
   "source": [
    "# Regularización\n",
    "\n",
    "Hasta ahora hemos configurado las redes neuronales concatenando un conjunto de capas densas. Además de las capas `densas` existen multitud de capas que pueden utilizarse en un modelo, como se puede ver en la documentación de [Keras](https://www.tensorflow.org/api_docs/python/tf/keras/layers/). Algunas capas son similares a las `densas` y definen las conexiones entre neuronas, mientras que otras pueden hacer operaciones de preprocesado u otros tipos de transformaciones. En esta práctica trataremos dos tipos de capas especiales: **dropout** y **batchnorm**, las cuales no contienen neuronas, añaden funcionalidad al proceso de entrenamiento a través de la regularización. Ambas son muy utilizadas en las arquitecturas modernas."
   ]
  },
  {
   "cell_type": "markdown",
   "id": "fbe41e3c-7ebf-4130-9c45-9a25f68666a3",
   "metadata": {
    "id": "WrlEZT-tWh7E"
   },
   "source": [
    "## Dropout\n",
    "\n",
    "La primera de estas capas se llama **dropout** y suele ayudar a corregir el sobreajuste. Como se ha mencionado, el sobreajuste se debe a que la red aprende patrones de ruido en los datos de entrenamiento. La red suele configurar combinaciones muy específicas de pesos para representar el ruido, es una especie de \"coordinación\" entre pesos que suele basarse en estructuras muy frágiles: si se elimina un peso, la estructura coordinada no funciona. Esta es la idea en la que se basa el **dropout**, romper estas estructuras, para ello eliminamos aleatoriamente una fracción de las neuronas que definen la entrada de una capa en cada paso del entrenamiento, lo que hace mucho más difícil que la red aprenda los patrones de ruido en los datos de entrenamiento. En su lugar, la red debe buscar patrones generales, que no dependan de una sola neurona, cuyas configuraciones de pesos sean robustas frente a cambios locales.\n",
    "\n",
    "<figura style=\"padding: 1em;\"><center>\n",
    "<img src=\"https://i.imgur.com/a86utxY.gif\" width=\"600\" alt=\"\"><figcaption style=\"textalign: center; font-style: italic\">Funcionamiento de una red con un 50% de dropout en una capa  oculta.</center></figcaption>\n",
    "</figura>\n",
    "\n",
    "En *Keras*, la capa `Dropout` se coloca justo después de la capa de neuronas donde queremos aplicarlo y la tasa de eliminación define el porcentaje de neuronas que se \"desconecta\" para cada muestra procesada por la red. La tasa de eliminación viene definida por el parámetro `rate`. El ejemplo de la figura anterior viene definido con el siguiente código:"
   ]
  },
  {
   "cell_type": "markdown",
   "id": "5a4572cd",
   "metadata": {},
   "source": [
    "``` python\n",
    "model = keras.Sequential([\n",
    "layers.Dense(4, activation='relu', input_shape=[2]),\n",
    "layers.Dropout(rate=0.3),\n",
    "layers.Dense(3, activation='relu'),\n",
    "layers.Dense(1),\n",
    "])\n",
    "```"
   ]
  },
  {
   "cell_type": "markdown",
   "id": "FZYcPwC9WmWz",
   "metadata": {
    "id": "FZYcPwC9WmWz"
   },
   "source": [
    "## Normalización por lotes\n",
    "\n",
    "Los algoritmos de optimización basados en gradiente descendente, en nuestro caso **SGD**, cambian los pesos de la red de forma proporcional al gradiente. El gradiente se calcula respecto de los pesos de todas las capas de la red y depende de lo grandes que sean tanto las salidas intermedias (activaciones de la red) como los datos de entrada. Si los datos de entrada tienden a producir activaciones de tamaños muy diferentes, pueden hacer que los errores provocados por la pérdida de precisión numérica hagan que el entrenamiento sea inestable. Por un lado es bueno normalizar los datos antes de que entren en la red, por otro lado suele ser bueno normalizar el flujo de datos (activaciones) dentro de la red. En general, suele ser buena idea realizar una normalización de los datos de entrada, por ejemplo con [StandardScaler](https://scikit-learn.org/stable/modules/generated/sklearn.preprocessing.StandardScaler.html) o [MinMaxScaler](https://scikit-learn.org/stable/modules/generated/sklearn.preprocessing.MinMaxScaler.html) del paquete de *Machine Learning* `scikit-learn`. Por otro lado, la normalización por lote es una técnica que se aplica dentro de la red. En *Keras* se puede configurar con la capa `BatchNormalization`, y puede ayudar a corregir el entrenamiento que resulta lento o inestable. Esta capa realiza las siguientes operaciones: \n",
    "- en primer lugar examina en cada batch las entradas en una determinada capa de la red y normaliza los datos con su propia media y desviación estándar.\n",
    "- Después configura los datos con una nueva escala, que viene definida por una nueva media y desviación, los cuales se configuran como parámetros entrenables por la red.\n",
    "\n",
    "Es decir, el proceso de **Batchnorm** realiza un re-escalado automático en los datos a lo largo de la red que favorecen el entrenamiento, y por tanto el funcionamiento de la propia red. Generalmente el **Batchnorm** se añade como una ayuda al proceso de optimización y contribuye a reducir el número de épocas de entrenamiento, incluso puede evitar que el entrenamiento se \"atasque\" por problemas en la precisión numérica en la representación de los datos. A veces también puede mejorar el rendimiento en modo de predicción. El **Batchnorm** puede utilizarse en casi cualquier punto de una red, por ejemplo después de una capa:\n",
    "\n",
    "``` python\n",
    "layers.Dense(16, activation='relu'),\n",
    "layers.BatchNormalization(),\n",
    "```\n",
    "\n",
    "o entre una capa y su función de activación:\n",
    "\n",
    "``` python\n",
    "layers.Dense(16),\n",
    "layers.BatchNormalization(),\n",
    "layers.Activation('relu'),\n",
    "```\n",
    "\n",
    "Si se añade como la primera capa de la red, puede actuar como una especie de preprocesado adaptativo."
   ]
  },
  {
   "cell_type": "markdown",
   "id": "653V-s6FWrMz",
   "metadata": {
    "id": "653V-s6FWrMz"
   },
   "source": [
    "## Ejemplo\n",
    "\n",
    "Volvemos al modelo usado con la base de datos \"*Red Wine*\". En este caso aumentaremos más la capacidad de la red, pero añadiremos el **Dropout** para controlar el sobreajuste y el **Batchnorm** para acelerar la optimización. En la sesión anterior, cuando usamos esta base de datos realizamos una etapa de preprocesado para su normalización. En esta ocasión prescindimos de dicha normalización, con el objetivo de demostrar la capacidad del **Batchnorm** para la estabilización del entrenamiento.\n",
    "\n",
    "En primer lugar importamos las librerías:"
   ]
  },
  {
   "cell_type": "code",
   "execution_count": 2,
   "id": "df4e9f66-7d28-4d52-87e8-4e8d66a54ffd",
   "metadata": {
    "_kg_hide-input": true,
    "colab": {
     "base_uri": "https://localhost:8080/",
     "height": 207
    },
    "executionInfo": {
     "elapsed": 193,
     "status": "ok",
     "timestamp": 1631440426517,
     "user": {
      "displayName": "pivc jose",
      "photoUrl": "https://lh3.googleusercontent.com/a/default-user=s64",
      "userId": "04575703174273275617"
     },
     "user_tz": -120
    },
    "id": "unable-keeping",
    "lines_to_next_cell": 0,
    "outputId": "263e5890-5115-4d2f-a82b-1ab4dea4f068",
    "papermill": {
     "duration": 0.106036,
     "end_time": "2021-06-03T16:39:49.466672",
     "exception": false,
     "start_time": "2021-06-03T16:39:49.360636",
     "status": "completed"
    },
    "tags": []
   },
   "outputs": [],
   "source": [
    "import pandas as pd\n",
    "from IPython.display import display\n",
    "import matplotlib.pyplot as plt\n",
    "from tensorflow import keras\n",
    "from tensorflow.keras import layers\n",
    "import tensorflow as tf"
   ]
  },
  {
   "cell_type": "markdown",
   "id": "929535e2-f2d3-4d36-8ec1-bbe37f7eb478",
   "metadata": {
    "_kg_hide-input": true,
    "colab": {
     "base_uri": "https://localhost:8080/",
     "height": 207
    },
    "executionInfo": {
     "elapsed": 193,
     "status": "ok",
     "timestamp": 1631440426517,
     "user": {
      "displayName": "pivc jose",
      "photoUrl": "https://lh3.googleusercontent.com/a/default-user=s64",
      "userId": "04575703174273275617"
     },
     "user_tz": -120
    },
    "id": "unable-keeping",
    "lines_to_next_cell": 0,
    "outputId": "263e5890-5115-4d2f-a82b-1ab4dea4f068",
    "papermill": {
     "duration": 0.106036,
     "end_time": "2021-06-03T16:39:49.466672",
     "exception": false,
     "start_time": "2021-06-03T16:39:49.360636",
     "status": "completed"
    },
    "tags": []
   },
   "source": [
    "Cargamos la base de datos y generamos dos conjuntos, el de entrenamiento y el de validación, sin normalización."
   ]
  },
  {
   "cell_type": "code",
   "execution_count": 3,
   "id": "elementary-accuracy",
   "metadata": {
    "_kg_hide-input": true,
    "executionInfo": {
     "elapsed": 123,
     "status": "ok",
     "timestamp": 1631730847898,
     "user": {
      "displayName": "pivc jose",
      "photoUrl": "https://lh3.googleusercontent.com/a/default-user=s64",
      "userId": "04575703174273275617"
     },
     "user_tz": -120
    },
    "id": "elementary-accuracy",
    "papermill": {
     "duration": 0.053529,
     "end_time": "2021-06-03T16:39:54.648827",
     "exception": false,
     "start_time": "2021-06-03T16:39:54.595298",
     "status": "completed"
    },
    "tags": []
   },
   "outputs": [],
   "source": [
    "# Create training and validation splits\n",
    "red_wine = pd.read_csv('data_m3/datasets/red-wine.csv')\n",
    "df_train = red_wine.sample(frac=0.7, random_state=0)\n",
    "df_valid = red_wine.drop(df_train.index)\n",
    "\n",
    "# Scale to [0, 1]\n",
    "#max_ = df_train.max(axis=0)\n",
    "#min_ = df_train.min(axis=0)\n",
    "#df_train = (df_train - min_) / (max_ - min_)\n",
    "#df_valid = (df_valid - min_) / (max_ - min_)\n",
    "\n",
    "# Split features and target\n",
    "X_train = df_train.drop('quality', axis=1)\n",
    "X_valid = df_valid.drop('quality', axis=1)\n",
    "y_train = df_train['quality']\n",
    "y_valid = df_valid['quality']"
   ]
  },
  {
   "cell_type": "markdown",
   "id": "skilled-tooth",
   "metadata": {
    "id": "skilled-tooth",
    "papermill": {
     "duration": 0.005732,
     "end_time": "2021-06-03T16:39:54.661046",
     "exception": false,
     "start_time": "2021-06-03T16:39:54.655314",
     "status": "completed"
    },
    "tags": []
   },
   "source": [
    "Al añadir el **dropout**, podemos aumentar el número de neuronas en las capas, en este caso utilizamos capas con 1024 neuronas."
   ]
  },
  {
   "cell_type": "code",
   "execution_count": 11,
   "id": "banner-bearing",
   "metadata": {
    "colab": {
     "base_uri": "https://localhost:8080/"
    },
    "executionInfo": {
     "elapsed": 1369,
     "status": "ok",
     "timestamp": 1631730854707,
     "user": {
      "displayName": "pivc jose",
      "photoUrl": "https://lh3.googleusercontent.com/a/default-user=s64",
      "userId": "04575703174273275617"
     },
     "user_tz": -120
    },
    "id": "banner-bearing",
    "outputId": "f116b3fb-f60b-4f75-9f0b-73d422ae954f",
    "papermill": {
     "duration": 6.279275,
     "end_time": "2021-06-03T16:40:00.946297",
     "exception": false,
     "start_time": "2021-06-03T16:39:54.667022",
     "status": "completed"
    },
    "tags": []
   },
   "outputs": [],
   "source": [
    "model = keras.Sequential([\n",
    "    layers.Dense(1024, activation='relu', input_shape=[11]),\n",
    "    layers.Dropout(0.3),\n",
    "    layers.BatchNormalization(),\n",
    "    layers.Dense(1024, activation='relu'),\n",
    "    layers.Dropout(0.3),\n",
    "    layers.BatchNormalization(),\n",
    "    layers.Dense(1024, activation='relu'),\n",
    "    layers.Dropout(0.3),\n",
    "    layers.BatchNormalization(),\n",
    "    layers.Dense(1),\n",
    "])"
   ]
  },
  {
   "cell_type": "markdown",
   "id": "damaged-sociology",
   "metadata": {
    "id": "damaged-sociology",
    "papermill": {
     "duration": 0.005972,
     "end_time": "2021-06-03T16:40:00.958740",
     "exception": false,
     "start_time": "2021-06-03T16:40:00.952768",
     "status": "completed"
    },
    "tags": []
   },
   "source": [
    "Mantenemos la misma configuración del entrenamiento."
   ]
  },
  {
   "cell_type": "code",
   "execution_count": 5,
   "id": "thermal-faith",
   "metadata": {
    "colab": {
     "base_uri": "https://localhost:8080/",
     "height": 314
    },
    "executionInfo": {
     "elapsed": 39748,
     "status": "ok",
     "timestamp": 1631612534051,
     "user": {
      "displayName": "pivc jose",
      "photoUrl": "https://lh3.googleusercontent.com/a/default-user=s64",
      "userId": "04575703174273275617"
     },
     "user_tz": -120
    },
    "id": "thermal-faith",
    "outputId": "eb04ff37-c03c-49ba-c14f-958e9b5758b5",
    "papermill": {
     "duration": 35.657691,
     "end_time": "2021-06-03T16:40:36.623235",
     "exception": false,
     "start_time": "2021-06-03T16:40:00.965544",
     "status": "completed"
    },
    "tags": []
   },
   "outputs": [
    {
     "data": {
      "image/png": "[encoded data removed]",
      "text/plain": [
       "<Figure size 640x480 with 1 Axes>"
      ]
     },
     "metadata": {},
     "output_type": "display_data"
    }
   ],
   "source": [
    "model.compile(\n",
    "    optimizer='adam',\n",
    "    loss='mae',\n",
    ")\n",
    "\n",
    "history = model.fit(\n",
    "    X_train, y_train,\n",
    "    validation_data=(X_valid, y_valid),\n",
    "    batch_size=256,\n",
    "    epochs=100,\n",
    "    verbose=0,\n",
    ")\n",
    "\n",
    "# Show the learning curves\n",
    "history_df = pd.DataFrame(history.history)\n",
    "ax = history_df.loc[:, ['loss', 'val_loss']].plot();\n",
    "ax.set(xlabel='Épocas', ylabel='Pérdidas'),plt.grid();\n",
    "plt.show()"
   ]
  },
  {
   "cell_type": "markdown",
   "id": "experimental-texture",
   "metadata": {
    "id": "experimental-texture",
    "papermill": {
     "duration": 0.009926,
     "end_time": "2021-06-03T16:40:05.377511",
     "exception": false,
     "start_time": "2021-06-03T16:40:05.367585",
     "status": "completed"
    },
    "tags": []
   },
   "source": [
    "# Clasificación binaria \n",
    "\n",
    "Hasta ahora hemos tratado problemas de regresión para predecir variables numéricas. En esta sección aplicamos las redes neuronales a otro problema común de aprendizaje automático: la clasificación. La diferencia principal con la regresión es la función de pérdidas utilizada en el entrenamiento y el tipo de salidas de la última capa. La clasificación binaria es un problema muy común en el aprendizaje automático: se puede predecir si es probable que un cliente haga una compra, si una transacción con tarjeta de crédito fue fraudulenta, si una prueba médica evidencia una enfermedad...\n",
    "\n",
    "Cuando trabajamos con datos brutos, las clases pueden estar representadas por etiquetas como \"Sí\" y \"No\", o \"Perro\" y \"Gato\". Antes de utilizar estos datos, es necesario asignar una **etiqueta de clase** numérica: una clase será `0` y la otra será `1`, de este modo permitimos que la red pueda interpretar la información de forma numérica."
   ]
  },
  {
   "cell_type": "markdown",
   "id": "q5iRhUfeB9EM",
   "metadata": {
    "id": "q5iRhUfeB9EM",
    "tags": []
   },
   "source": [
    "## Función de pérdidas y métrica\n",
    "\n",
    "En los problemas de regresión, el proceso de entrenamiento está basado en la minimización de una métrica de error que suele ser el error absoluto medio (MAE) o el error cuadrático medio (MSE). En problemas de clasificación, el objetivo suele ser la **precisión** en la clasificación (Accuracy), definida como la relación entre el número de predicciones correctas y las predicciones totales: `precisión = respuestas_correctas / total`. Esta métrica es fácilmente interpretable, por ejemplo, un modelo que es capaz de predecir correctamente tendría una **precisión** de `1.0`. El problema de la precisión (y de la mayoría de las métricas de clasificación) es que no puede utilizarse como función de pérdidas en el proceso de entrenamiento, ya que al ser una proporción de sucesos, un cambio en un suceso es un salto en la función. Sin embargo, el SGD está basado en el cálculo del gradiente, y por tanto necesita que la función de pérdidas cambie suavemente. Por tanto, para esta nueva aplicación necesitamos otra función de pérdidas: una de las más utilizadas es la **entropía cruzada**. La **entropía cruzada** mide la distancia entre la distribución de probabilidad de que ocurra un suceso y la probabilidad de que ocurra el suceso contrario (binario). Por ejemplo, si queremos que la red prediga la clase correcta con probabilidad `1.0`, cuanto más lejos esté de `1.0` mayor será la pérdida de la **entropía cruzada**, como se puede ver en la siguiente gráfica:    \n",
    "\n",
    "<figura style=\"padding: 1em;\">\n",
    "<center><img src=\"https://i.imgur.com/DwVV9bR.png\" width=\"400\" alt=\"\">\n",
    "<figcaption style=\"textalign: center; font-style: italic\">La entropía cruzada penaliza la probabilidad de predicciones incorrectas.</center></figcaption>\n",
    "</figura>\n",
    "\n",
    "Aunque usemos la **entropía cruzada** como función de pérdidas en el proceso de entrenamiento, también se suele usar la **precisión** para describir la capacidad de predicción de la red. Al contrario que la función de pérdidas, la precisión es una métrica intuitiva y fácilmente interpretable, por eso se suelen visualizar las dos en paralelo. "
   ]
  },
  {
   "cell_type": "markdown",
   "id": "9w8-yR6dCAVO",
   "metadata": {
    "id": "9w8-yR6dCAVO"
   },
   "source": [
    "Tanto la **entropía cruzada** como la **precisión** requieren que la red genere como salida un valor de probabilidad, es decir, números de `0` a `1`. Para convertir las salidas producidas por una capa en valores de probabilidad, necesitamos un nuevo tipo de función de activación acotada entre `0` y `1`, la **función de activación sigmoide**, que será el tipo de activación de la última capa de la red. \n",
    "\n",
    "<figura style=\"padding: 1em;\">\n",
    "<center><img src=\"https://i.imgur.com/FYbRvJo.png\" width=\"400\" alt=\"\"></center>\n",
    "<figcaption style=\"textalign: center; font-style: italic\"><center>La función sigmoide realiza una correspondencia entre un número real arbitrario y otro que está obligatoriamente en el intervalo [0, 1], además, tiene asíntotas horizontales en 0 a la izquierda y 1 a la derecha.</center></figcaption>\n",
    "</figura>\n",
    "\n",
    "Para obtener la predicción final de la clase, definimos un *umbral* de probabilidad. Un umbral típico para definir la clase correcta es `0.5`: por debajo de `0.5` se define la clase con etiqueta `0` y por encima de `0.5` se define la clase con etiqueta `1`. Un umbral de `0.5` es lo que *Keras* utiliza por defecto en su [métrica de precisión](https://www.tensorflow.org/api_docs/python/tf/keras/metrics/BinaryAccuracy)."
   ]
  },
  {
   "cell_type": "markdown",
   "id": "BX-IvZybCC5f",
   "metadata": {
    "id": "BX-IvZybCC5f"
   },
   "source": [
    "## Ejemplo\n",
    "\n",
    "El conjunto de datos [Ionosphere](https://archive.ics.uci.edu/ml/datasets/Ionosphere) contiene características de señales de radar que se propagan por la ionosfera de la atmósfera terrestre. La tarea consiste en determinar si la señal muestra la presencia de algún objeto, o es simplemente aire. "
   ]
  },
  {
   "cell_type": "code",
   "execution_count": 6,
   "id": "0befb5c4",
   "metadata": {},
   "outputs": [
    {
     "data": {
      "text/html": [
       "<div>\n",
       "<style scoped>\n",
       "    .dataframe tbody tr th:only-of-type {\n",
       "        vertical-align: middle;\n",
       "    }\n",
       "\n",
       "    .dataframe tbody tr th {\n",
       "        vertical-align: top;\n",
       "    }\n",
       "\n",
       "    .dataframe thead th {\n",
       "        text-align: right;\n",
       "    }\n",
       "</style>\n",
       "<table border=\"1\" class=\"dataframe\">\n",
       "  <thead>\n",
       "    <tr style=\"text-align: right;\">\n",
       "      <th></th>\n",
       "      <th>V1</th>\n",
       "      <th>V2</th>\n",
       "      <th>V3</th>\n",
       "      <th>V4</th>\n",
       "      <th>V5</th>\n",
       "      <th>V6</th>\n",
       "      <th>V7</th>\n",
       "      <th>V8</th>\n",
       "      <th>V9</th>\n",
       "      <th>V10</th>\n",
       "      <th>...</th>\n",
       "      <th>V26</th>\n",
       "      <th>V27</th>\n",
       "      <th>V28</th>\n",
       "      <th>V29</th>\n",
       "      <th>V30</th>\n",
       "      <th>V31</th>\n",
       "      <th>V32</th>\n",
       "      <th>V33</th>\n",
       "      <th>V34</th>\n",
       "      <th>Class</th>\n",
       "    </tr>\n",
       "  </thead>\n",
       "  <tbody>\n",
       "    <tr>\n",
       "      <th>1</th>\n",
       "      <td>1</td>\n",
       "      <td>0</td>\n",
       "      <td>0.99539</td>\n",
       "      <td>-0.05889</td>\n",
       "      <td>0.85243</td>\n",
       "      <td>0.02306</td>\n",
       "      <td>0.83398</td>\n",
       "      <td>-0.37708</td>\n",
       "      <td>1.00000</td>\n",
       "      <td>0.03760</td>\n",
       "      <td>...</td>\n",
       "      <td>-0.51171</td>\n",
       "      <td>0.41078</td>\n",
       "      <td>-0.46168</td>\n",
       "      <td>0.21266</td>\n",
       "      <td>-0.34090</td>\n",
       "      <td>0.42267</td>\n",
       "      <td>-0.54487</td>\n",
       "      <td>0.18641</td>\n",
       "      <td>-0.45300</td>\n",
       "      <td>good</td>\n",
       "    </tr>\n",
       "    <tr>\n",
       "      <th>2</th>\n",
       "      <td>1</td>\n",
       "      <td>0</td>\n",
       "      <td>1.00000</td>\n",
       "      <td>-0.18829</td>\n",
       "      <td>0.93035</td>\n",
       "      <td>-0.36156</td>\n",
       "      <td>-0.10868</td>\n",
       "      <td>-0.93597</td>\n",
       "      <td>1.00000</td>\n",
       "      <td>-0.04549</td>\n",
       "      <td>...</td>\n",
       "      <td>-0.26569</td>\n",
       "      <td>-0.20468</td>\n",
       "      <td>-0.18401</td>\n",
       "      <td>-0.19040</td>\n",
       "      <td>-0.11593</td>\n",
       "      <td>-0.16626</td>\n",
       "      <td>-0.06288</td>\n",
       "      <td>-0.13738</td>\n",
       "      <td>-0.02447</td>\n",
       "      <td>bad</td>\n",
       "    </tr>\n",
       "    <tr>\n",
       "      <th>3</th>\n",
       "      <td>1</td>\n",
       "      <td>0</td>\n",
       "      <td>1.00000</td>\n",
       "      <td>-0.03365</td>\n",
       "      <td>1.00000</td>\n",
       "      <td>0.00485</td>\n",
       "      <td>1.00000</td>\n",
       "      <td>-0.12062</td>\n",
       "      <td>0.88965</td>\n",
       "      <td>0.01198</td>\n",
       "      <td>...</td>\n",
       "      <td>-0.40220</td>\n",
       "      <td>0.58984</td>\n",
       "      <td>-0.22145</td>\n",
       "      <td>0.43100</td>\n",
       "      <td>-0.17365</td>\n",
       "      <td>0.60436</td>\n",
       "      <td>-0.24180</td>\n",
       "      <td>0.56045</td>\n",
       "      <td>-0.38238</td>\n",
       "      <td>good</td>\n",
       "    </tr>\n",
       "    <tr>\n",
       "      <th>4</th>\n",
       "      <td>1</td>\n",
       "      <td>0</td>\n",
       "      <td>1.00000</td>\n",
       "      <td>-0.45161</td>\n",
       "      <td>1.00000</td>\n",
       "      <td>1.00000</td>\n",
       "      <td>0.71216</td>\n",
       "      <td>-1.00000</td>\n",
       "      <td>0.00000</td>\n",
       "      <td>0.00000</td>\n",
       "      <td>...</td>\n",
       "      <td>0.90695</td>\n",
       "      <td>0.51613</td>\n",
       "      <td>1.00000</td>\n",
       "      <td>1.00000</td>\n",
       "      <td>-0.20099</td>\n",
       "      <td>0.25682</td>\n",
       "      <td>1.00000</td>\n",
       "      <td>-0.32382</td>\n",
       "      <td>1.00000</td>\n",
       "      <td>bad</td>\n",
       "    </tr>\n",
       "    <tr>\n",
       "      <th>5</th>\n",
       "      <td>1</td>\n",
       "      <td>0</td>\n",
       "      <td>1.00000</td>\n",
       "      <td>-0.02401</td>\n",
       "      <td>0.94140</td>\n",
       "      <td>0.06531</td>\n",
       "      <td>0.92106</td>\n",
       "      <td>-0.23255</td>\n",
       "      <td>0.77152</td>\n",
       "      <td>-0.16399</td>\n",
       "      <td>...</td>\n",
       "      <td>-0.65158</td>\n",
       "      <td>0.13290</td>\n",
       "      <td>-0.53206</td>\n",
       "      <td>0.02431</td>\n",
       "      <td>-0.62197</td>\n",
       "      <td>-0.05707</td>\n",
       "      <td>-0.59573</td>\n",
       "      <td>-0.04608</td>\n",
       "      <td>-0.65697</td>\n",
       "      <td>good</td>\n",
       "    </tr>\n",
       "  </tbody>\n",
       "</table>\n",
       "<p>5 rows × 35 columns</p>\n",
       "</div>"
      ],
      "text/plain": [
       "   V1  V2       V3       V4       V5       V6       V7       V8       V9  \\\n",
       "1   1   0  0.99539 -0.05889  0.85243  0.02306  0.83398 -0.37708  1.00000   \n",
       "2   1   0  1.00000 -0.18829  0.93035 -0.36156 -0.10868 -0.93597  1.00000   \n",
       "3   1   0  1.00000 -0.03365  1.00000  0.00485  1.00000 -0.12062  0.88965   \n",
       "4   1   0  1.00000 -0.45161  1.00000  1.00000  0.71216 -1.00000  0.00000   \n",
       "5   1   0  1.00000 -0.02401  0.94140  0.06531  0.92106 -0.23255  0.77152   \n",
       "\n",
       "       V10  ...      V26      V27      V28      V29      V30      V31  \\\n",
       "1  0.03760  ... -0.51171  0.41078 -0.46168  0.21266 -0.34090  0.42267   \n",
       "2 -0.04549  ... -0.26569 -0.20468 -0.18401 -0.19040 -0.11593 -0.16626   \n",
       "3  0.01198  ... -0.40220  0.58984 -0.22145  0.43100 -0.17365  0.60436   \n",
       "4  0.00000  ...  0.90695  0.51613  1.00000  1.00000 -0.20099  0.25682   \n",
       "5 -0.16399  ... -0.65158  0.13290 -0.53206  0.02431 -0.62197 -0.05707   \n",
       "\n",
       "       V32      V33      V34  Class  \n",
       "1 -0.54487  0.18641 -0.45300   good  \n",
       "2 -0.06288 -0.13738 -0.02447    bad  \n",
       "3 -0.24180  0.56045 -0.38238   good  \n",
       "4  1.00000 -0.32382  1.00000    bad  \n",
       "5 -0.59573 -0.04608 -0.65697   good  \n",
       "\n",
       "[5 rows x 35 columns]"
      ]
     },
     "metadata": {},
     "output_type": "display_data"
    }
   ],
   "source": [
    "ion = pd.read_csv('data_m3/datasets/ion.csv', index_col=0)\n",
    "display(ion.head())\n",
    "\n",
    "df = ion.copy()\n",
    "df['Class'] = df['Class'].map({'good': 0, 'bad': 1})\n",
    "\n",
    "df_train = df.sample(frac=0.7, random_state=0)\n",
    "df_valid = df.drop(df_train.index)\n",
    "\n",
    "max_ = df_train.max(axis=0)\n",
    "min_ = df_train.min(axis=0)\n",
    "\n",
    "df_train = (df_train - min_) / (max_ - min_)\n",
    "df_valid = (df_valid - min_) / (max_ - min_)\n",
    "df_train.dropna(axis=1, inplace=True) # drop the empty feature in column 2\n",
    "df_valid.dropna(axis=1, inplace=True)\n",
    "\n",
    "X_train = df_train.drop('Class', axis=1)\n",
    "X_valid = df_valid.drop('Class', axis=1)\n",
    "y_train = df_train['Class']\n",
    "y_valid = df_valid['Class']"
   ]
  },
  {
   "cell_type": "markdown",
   "id": "baking-brush",
   "metadata": {
    "id": "baking-brush",
    "papermill": {
     "duration": 0.008645,
     "end_time": "2021-06-03T16:40:05.526310",
     "exception": false,
     "start_time": "2021-06-03T16:40:05.517665",
     "status": "completed"
    },
    "tags": []
   },
   "source": [
    "Definiremos nuestro modelo igual que lo hicimos en las tareas de regresión, con una excepción: en la última capa queremos que la red prediga un valor de probabilidad, que tiene que estar entre 0 y 1. Como hemos comentado, la función de activación **sigmoide** tiene la propiedad de convertir cualquier entrada en una salida situada entre 0 y 1, lo cual será interpretado como una probabilidad de clase."
   ]
  },
  {
   "cell_type": "code",
   "execution_count": 7,
   "id": "formed-pathology",
   "metadata": {
    "id": "formed-pathology",
    "papermill": {
     "duration": 5.904425,
     "end_time": "2021-06-03T16:40:11.439662",
     "exception": false,
     "start_time": "2021-06-03T16:40:05.535237",
     "status": "completed"
    },
    "tags": []
   },
   "outputs": [],
   "source": [
    "model = keras.Sequential([\n",
    "    layers.Dense(4, activation='relu', input_shape=[33]),\n",
    "    layers.Dense(4, activation='relu'),    \n",
    "    layers.Dense(1, activation='sigmoid'),\n",
    "])"
   ]
  },
  {
   "cell_type": "markdown",
   "id": "expanded-cradle",
   "metadata": {
    "id": "expanded-cradle",
    "papermill": {
     "duration": 0.00887,
     "end_time": "2021-06-03T16:40:11.457865",
     "exception": false,
     "start_time": "2021-06-03T16:40:11.448995",
     "status": "completed"
    },
    "tags": []
   },
   "source": [
    "Configuramos el entrenamiento con el método `compile`, utilizamos la función de pérdidas de **entropía cruzada** y pedimos a Keras que nos muestre el valor de la **precisión** (Accuracy) en el conjunto de validación, de este modo podemos visualizar la evolución de la tasa de errores cometidos. En el caso de tener dos clases se dice que es un problema binario, esto explica el nombre de las métricas: **binary_crossentropy** y **binary_accuracy**. Para problemas con más clases tendremos que modificar la función de pérdidas y la métrica de validación. El optimizador **Adam** funciona muy bien para la clasificación, por tanto lo mantenemos."
   ]
  },
  {
   "cell_type": "code",
   "execution_count": 8,
   "id": "sweet-conjunction",
   "metadata": {
    "id": "sweet-conjunction",
    "papermill": {
     "duration": 0.028437,
     "end_time": "2021-06-03T16:40:11.495381",
     "exception": false,
     "start_time": "2021-06-03T16:40:11.466944",
     "status": "completed"
    },
    "tags": []
   },
   "outputs": [],
   "source": [
    "model.compile(\n",
    "    optimizer='adam',\n",
    "    loss='binary_crossentropy',\n",
    "    metrics=['binary_accuracy'],\n",
    ")"
   ]
  },
  {
   "cell_type": "markdown",
   "id": "charitable-allah",
   "metadata": {
    "id": "charitable-allah",
    "papermill": {
     "duration": 0.009278,
     "end_time": "2021-06-03T16:40:11.514017",
     "exception": false,
     "start_time": "2021-06-03T16:40:11.504739",
     "status": "completed"
    },
    "tags": []
   },
   "source": [
    "El modelo de este problema puede tardar bastantes épocas en completar el entrenamiento, por lo que incluiremos un `callback` de parada temprana."
   ]
  },
  {
   "cell_type": "code",
   "execution_count": 9,
   "id": "overall-processing",
   "metadata": {
    "id": "overall-processing",
    "papermill": {
     "duration": 31.093604,
     "end_time": "2021-06-03T16:40:42.617520",
     "exception": false,
     "start_time": "2021-06-03T16:40:11.523916",
     "status": "completed"
    },
    "tags": []
   },
   "outputs": [],
   "source": [
    "early_stopping = keras.callbacks.EarlyStopping(\n",
    "    patience=20,\n",
    "    min_delta=0.0005,\n",
    "    restore_best_weights=True,\n",
    ")\n",
    "\n",
    "history = model.fit(\n",
    "    X_train, y_train,\n",
    "    validation_data=(X_valid, y_valid),\n",
    "    batch_size=32,\n",
    "    epochs=150,\n",
    "    callbacks=[early_stopping],\n",
    "    verbose=0, # hide the output because we have so many epochs\n",
    ")"
   ]
  },
  {
   "cell_type": "markdown",
   "id": "expired-tenant",
   "metadata": {
    "id": "expired-tenant",
    "papermill": {
     "duration": 0.009217,
     "end_time": "2021-06-03T16:40:42.636482",
     "exception": false,
     "start_time": "2021-06-03T16:40:42.627265",
     "status": "completed"
    },
    "tags": []
   },
   "source": [
    "Como siempre, es interesante visualizar las curvas de aprendizaje y los valores de las **pérdidas** y la **precisión** que obtuvimos en el conjunto de validación (note que la parada temprana restaurará los pesos a la mejor situación)."
   ]
  },
  {
   "cell_type": "code",
   "execution_count": 10,
   "id": "previous-mitchell",
   "metadata": {
    "colab": {
     "base_uri": "https://localhost:8080/",
     "height": 611
    },
    "executionInfo": {
     "elapsed": 1276,
     "status": "ok",
     "timestamp": 1631612752115,
     "user": {
      "displayName": "pivc jose",
      "photoUrl": "https://lh3.googleusercontent.com/a/default-user=s64",
      "userId": "04575703174273275617"
     },
     "user_tz": -120
    },
    "id": "previous-mitchell",
    "outputId": "67272fc5-184c-430d-c919-91cb8c81af2a",
    "papermill": {
     "duration": 0.406426,
     "end_time": "2021-06-03T16:40:43.052322",
     "exception": false,
     "start_time": "2021-06-03T16:40:42.645896",
     "status": "completed"
    },
    "tags": []
   },
   "outputs": [
    {
     "name": "stdout",
     "output_type": "stream",
     "text": [
      "Best Validation Loss: 0.4062\n",
      "Best Validation Accuracy: 0.8857\n"
     ]
    },
    {
     "data": {
      "image/png": "[encoded data removed]",
      "text/plain": [
       "<Figure size 1500x500 with 2 Axes>"
      ]
     },
     "metadata": {},
     "output_type": "display_data"
    }
   ],
   "source": [
    "history_df = pd.DataFrame(history.history)\n",
    "# Start the plot at epoch 5\n",
    "fig, (ax1, ax2) = plt.subplots(1, 2,figsize=(15, 5))\n",
    "history_df.loc[5:, ['loss', 'val_loss']].plot(xlabel='Épocas', ax=ax1, grid=True)\n",
    "ax1.set(xlabel='Épocas', ylabel='Pérdidas')\n",
    "history_df.loc[5:, ['binary_accuracy', 'val_binary_accuracy']].plot(xlabel='Épocas',ax=ax2, grid=True);\n",
    "ax2.set(xlabel='Épocas', ylabel='Precisión')\n",
    "\n",
    "print((\"Best Validation Loss: {:0.4f}\" +\\\n",
    "      \"\\nBest Validation Accuracy: {:0.4f}\")\\\n",
    "      .format(history_df['val_loss'].min(), \n",
    "              history_df['val_binary_accuracy'].max()))"
   ]
  },
  {
   "cell_type": "markdown",
   "id": "d4f58d21-e8cd-4adc-ae28-336f415b7960",
   "metadata": {},
   "source": [
    "Obsérvese que hemos conseguido una precisión aproximada de 90%."
   ]
  }
 ],
 "metadata": {
  "colab": {
   "collapsed_sections": [
    "XK0prYXHWj1T"
   ],
   "name": "sesion3-regularizacion y clasificacion.ipynb",
   "provenance": [],
   "toc_visible": true
  },
  "jupytext": {
   "cell_metadata_filter": "-all",
   "formats": "ipynb"
  },
  "kernelspec": {
   "display_name": "Python 3.10.6 64-bit",
   "language": "python",
   "name": "python3"
  },
  "language_info": {
   "codemirror_mode": {
    "name": "ipython",
    "version": 3
   },
   "file_extension": ".py",
   "mimetype": "text/x-python",
   "name": "python",
   "nbconvert_exporter": "python",
   "pygments_lexer": "ipython3",
   "version": "3.10.6"
  },
  "papermill": {
   "default_parameters": {},
   "duration": 15.83577,
   "end_time": "2021-06-03T16:39:59.065293",
   "environment_variables": {},
   "exception": null,
   "input_path": "__notebook__.ipynb",
   "output_path": "__notebook__.ipynb",
   "parameters": {},
   "start_time": "2021-06-03T16:39:43.229523",
   "version": "2.3.2"
  },
  "vscode": {
   "interpreter": {
    "hash": "916dbcbb3f70747c44a77c7bcd40155683ae19c65e1c03b4aa3499c5328201f1"
   }
  }
 },
 "nbformat": 4,
 "nbformat_minor": 5
}
