{
  "cells": [
    {
      "cell_type": "markdown",
      "metadata": {
        "id": "PoTXDJPJGG8f"
      },
      "source": [
        "# Instalación\n",
        "\n",
        "**Los datos necesarios para realizar la práctica están en una carpeta compartida que se llama `data`, situada en \"Shared with me\". Para que el cuaderno pueda acceder a ella es necesario crear un link en \"My Drive\". El link se crea simplemente seleccionando \"data\", y desde el menu del botón derecho seleccione \"Add a shortcut to Drive\".**\n",
        "\n",
        "**Una vez hecho esto, ejecute la siguiente celda. Esta celda montará el directorio de trabajo del cuaderno y verá la carpeta `data` a través del link. Para montar el directorio le pedirá que se registre en \"Drive\"**.\n"
      ]
    },
    {
      "cell_type": "code",
      "execution_count": 2,
      "metadata": {
        "id": "wVnLmr6jGG8f",
        "tags": [],
        "colab": {
          "base_uri": "https://localhost:8080/"
        },
        "outputId": "1f0361f3-5c8f-4adc-8377-5f0bb5b9747b"
      },
      "outputs": [
        {
          "output_type": "stream",
          "name": "stdout",
          "text": [
            "Mounted at /drive\n",
            "/drive/.shortcut-targets-by-id/1MHsiAeNCqIWHIkKgK7ggxOaSkemKqWSb/data\n"
          ]
        }
      ],
      "source": [
        "## Instalación: esta celda monta el directorio de trabajo\n",
        "if 'google.colab' in str(get_ipython()):\n",
        "    # Setup colab\n",
        "    from google.colab import drive\n",
        "    drive.mount('/drive')\n",
        "    %cd /drive/My Drive/data\n",
        "else:\n",
        "    pass"
      ]
    },
    {
      "cell_type": "markdown",
      "metadata": {
        "id": "af9FvurnFMpV"
      },
      "source": [
        "# Modelo lineal\n",
        "\n",
        "En el tutorial hemos aprendido a construir redes neuronales, comenzando por las unidades básicas: *neuronas* o *unidades lineales*. Se ha visto que una neurona (o unidad lineal) puede modelar los datos de una base de datos de forma lineal, a través de un problema convencional de regresión lineal. Para comenzar con Keras, vamos a construir un modelo lineal. Antes de comenzar, ejecute la siguiente celda para configurar el sistema."
      ]
    },
    {
      "cell_type": "code",
      "execution_count": 3,
      "metadata": {
        "id": "czT-gZnHFMpW",
        "tags": []
      },
      "outputs": [],
      "source": [
        "# Setup Tensorflow\n",
        "from tensorflow import keras\n",
        "from tensorflow.keras import layers\n",
        "import tensorflow as tf\n",
        "\n",
        "# Setup plotting\n",
        "import matplotlib.pyplot as plt\n",
        "plt.style.use('seaborn-whitegrid')\n",
        "# Set Matplotlib defaults\n",
        "plt.rc('figure', autolayout=True)\n",
        "plt.rc('axes', labelweight='bold', labelsize='large',\n",
        "       titleweight='bold', titlesize=18, titlepad=10)"
      ]
    },
    {
      "cell_type": "markdown",
      "metadata": {
        "id": "2WXO4H7FGG8g"
      },
      "source": [
        "La base de datos *Red Wine Quality* consiste en un conjunto de parámetros físico-químicos sobre 1600 vinos tintos Portugueses. Además, cada vino tiene una puntuación de su calidad, obtenida mediante catas a ciegas. En primer lugar, vamos a visualizar las primeras filas de la base de datos."
      ]
    },
    {
      "cell_type": "code",
      "execution_count": 4,
      "metadata": {
        "id": "q3a0fVH5GG8g",
        "tags": [],
        "colab": {
          "base_uri": "https://localhost:8080/",
          "height": 363
        },
        "outputId": "c7f8ffad-0357-445d-f9ab-ed5b28ccce19"
      },
      "outputs": [
        {
          "output_type": "execute_result",
          "data": {
            "text/plain": [
              "   fixed acidity  volatile acidity  citric acid  residual sugar  chlorides  \\\n",
              "0            7.4              0.70         0.00             1.9      0.076   \n",
              "1            7.8              0.88         0.00             2.6      0.098   \n",
              "2            7.8              0.76         0.04             2.3      0.092   \n",
              "3           11.2              0.28         0.56             1.9      0.075   \n",
              "4            7.4              0.70         0.00             1.9      0.076   \n",
              "5            7.4              0.66         0.00             1.8      0.075   \n",
              "6            7.9              0.60         0.06             1.6      0.069   \n",
              "7            7.3              0.65         0.00             1.2      0.065   \n",
              "8            7.8              0.58         0.02             2.0      0.073   \n",
              "9            7.5              0.50         0.36             6.1      0.071   \n",
              "\n",
              "   free sulfur dioxide  total sulfur dioxide  density    pH  sulphates  \\\n",
              "0                 11.0                  34.0   0.9978  3.51       0.56   \n",
              "1                 25.0                  67.0   0.9968  3.20       0.68   \n",
              "2                 15.0                  54.0   0.9970  3.26       0.65   \n",
              "3                 17.0                  60.0   0.9980  3.16       0.58   \n",
              "4                 11.0                  34.0   0.9978  3.51       0.56   \n",
              "5                 13.0                  40.0   0.9978  3.51       0.56   \n",
              "6                 15.0                  59.0   0.9964  3.30       0.46   \n",
              "7                 15.0                  21.0   0.9946  3.39       0.47   \n",
              "8                  9.0                  18.0   0.9968  3.36       0.57   \n",
              "9                 17.0                 102.0   0.9978  3.35       0.80   \n",
              "\n",
              "   alcohol  quality  \n",
              "0      9.4        5  \n",
              "1      9.8        5  \n",
              "2      9.8        5  \n",
              "3      9.8        6  \n",
              "4      9.4        5  \n",
              "5      9.4        5  \n",
              "6      9.4        5  \n",
              "7     10.0        7  \n",
              "8      9.5        7  \n",
              "9     10.5        5  "
            ],
            "text/html": [
              "\n",
              "  <div id=\"df-df55ed1b-35dc-428a-87b7-f582072ef8a8\">\n",
              "    <div class=\"colab-df-container\">\n",
              "      <div>\n",
              "<style scoped>\n",
              "    .dataframe tbody tr th:only-of-type {\n",
              "        vertical-align: middle;\n",
              "    }\n",
              "\n",
              "    .dataframe tbody tr th {\n",
              "        vertical-align: top;\n",
              "    }\n",
              "\n",
              "    .dataframe thead th {\n",
              "        text-align: right;\n",
              "    }\n",
              "</style>\n",
              "<table border=\"1\" class=\"dataframe\">\n",
              "  <thead>\n",
              "    <tr style=\"text-align: right;\">\n",
              "      <th></th>\n",
              "      <th>fixed acidity</th>\n",
              "      <th>volatile acidity</th>\n",
              "      <th>citric acid</th>\n",
              "      <th>residual sugar</th>\n",
              "      <th>chlorides</th>\n",
              "      <th>free sulfur dioxide</th>\n",
              "      <th>total sulfur dioxide</th>\n",
              "      <th>density</th>\n",
              "      <th>pH</th>\n",
              "      <th>sulphates</th>\n",
              "      <th>alcohol</th>\n",
              "      <th>quality</th>\n",
              "    </tr>\n",
              "  </thead>\n",
              "  <tbody>\n",
              "    <tr>\n",
              "      <th>0</th>\n",
              "      <td>7.4</td>\n",
              "      <td>0.70</td>\n",
              "      <td>0.00</td>\n",
              "      <td>1.9</td>\n",
              "      <td>0.076</td>\n",
              "      <td>11.0</td>\n",
              "      <td>34.0</td>\n",
              "      <td>0.9978</td>\n",
              "      <td>3.51</td>\n",
              "      <td>0.56</td>\n",
              "      <td>9.4</td>\n",
              "      <td>5</td>\n",
              "    </tr>\n",
              "    <tr>\n",
              "      <th>1</th>\n",
              "      <td>7.8</td>\n",
              "      <td>0.88</td>\n",
              "      <td>0.00</td>\n",
              "      <td>2.6</td>\n",
              "      <td>0.098</td>\n",
              "      <td>25.0</td>\n",
              "      <td>67.0</td>\n",
              "      <td>0.9968</td>\n",
              "      <td>3.20</td>\n",
              "      <td>0.68</td>\n",
              "      <td>9.8</td>\n",
              "      <td>5</td>\n",
              "    </tr>\n",
              "    <tr>\n",
              "      <th>2</th>\n",
              "      <td>7.8</td>\n",
              "      <td>0.76</td>\n",
              "      <td>0.04</td>\n",
              "      <td>2.3</td>\n",
              "      <td>0.092</td>\n",
              "      <td>15.0</td>\n",
              "      <td>54.0</td>\n",
              "      <td>0.9970</td>\n",
              "      <td>3.26</td>\n",
              "      <td>0.65</td>\n",
              "      <td>9.8</td>\n",
              "      <td>5</td>\n",
              "    </tr>\n",
              "    <tr>\n",
              "      <th>3</th>\n",
              "      <td>11.2</td>\n",
              "      <td>0.28</td>\n",
              "      <td>0.56</td>\n",
              "      <td>1.9</td>\n",
              "      <td>0.075</td>\n",
              "      <td>17.0</td>\n",
              "      <td>60.0</td>\n",
              "      <td>0.9980</td>\n",
              "      <td>3.16</td>\n",
              "      <td>0.58</td>\n",
              "      <td>9.8</td>\n",
              "      <td>6</td>\n",
              "    </tr>\n",
              "    <tr>\n",
              "      <th>4</th>\n",
              "      <td>7.4</td>\n",
              "      <td>0.70</td>\n",
              "      <td>0.00</td>\n",
              "      <td>1.9</td>\n",
              "      <td>0.076</td>\n",
              "      <td>11.0</td>\n",
              "      <td>34.0</td>\n",
              "      <td>0.9978</td>\n",
              "      <td>3.51</td>\n",
              "      <td>0.56</td>\n",
              "      <td>9.4</td>\n",
              "      <td>5</td>\n",
              "    </tr>\n",
              "    <tr>\n",
              "      <th>5</th>\n",
              "      <td>7.4</td>\n",
              "      <td>0.66</td>\n",
              "      <td>0.00</td>\n",
              "      <td>1.8</td>\n",
              "      <td>0.075</td>\n",
              "      <td>13.0</td>\n",
              "      <td>40.0</td>\n",
              "      <td>0.9978</td>\n",
              "      <td>3.51</td>\n",
              "      <td>0.56</td>\n",
              "      <td>9.4</td>\n",
              "      <td>5</td>\n",
              "    </tr>\n",
              "    <tr>\n",
              "      <th>6</th>\n",
              "      <td>7.9</td>\n",
              "      <td>0.60</td>\n",
              "      <td>0.06</td>\n",
              "      <td>1.6</td>\n",
              "      <td>0.069</td>\n",
              "      <td>15.0</td>\n",
              "      <td>59.0</td>\n",
              "      <td>0.9964</td>\n",
              "      <td>3.30</td>\n",
              "      <td>0.46</td>\n",
              "      <td>9.4</td>\n",
              "      <td>5</td>\n",
              "    </tr>\n",
              "    <tr>\n",
              "      <th>7</th>\n",
              "      <td>7.3</td>\n",
              "      <td>0.65</td>\n",
              "      <td>0.00</td>\n",
              "      <td>1.2</td>\n",
              "      <td>0.065</td>\n",
              "      <td>15.0</td>\n",
              "      <td>21.0</td>\n",
              "      <td>0.9946</td>\n",
              "      <td>3.39</td>\n",
              "      <td>0.47</td>\n",
              "      <td>10.0</td>\n",
              "      <td>7</td>\n",
              "    </tr>\n",
              "    <tr>\n",
              "      <th>8</th>\n",
              "      <td>7.8</td>\n",
              "      <td>0.58</td>\n",
              "      <td>0.02</td>\n",
              "      <td>2.0</td>\n",
              "      <td>0.073</td>\n",
              "      <td>9.0</td>\n",
              "      <td>18.0</td>\n",
              "      <td>0.9968</td>\n",
              "      <td>3.36</td>\n",
              "      <td>0.57</td>\n",
              "      <td>9.5</td>\n",
              "      <td>7</td>\n",
              "    </tr>\n",
              "    <tr>\n",
              "      <th>9</th>\n",
              "      <td>7.5</td>\n",
              "      <td>0.50</td>\n",
              "      <td>0.36</td>\n",
              "      <td>6.1</td>\n",
              "      <td>0.071</td>\n",
              "      <td>17.0</td>\n",
              "      <td>102.0</td>\n",
              "      <td>0.9978</td>\n",
              "      <td>3.35</td>\n",
              "      <td>0.80</td>\n",
              "      <td>10.5</td>\n",
              "      <td>5</td>\n",
              "    </tr>\n",
              "  </tbody>\n",
              "</table>\n",
              "</div>\n",
              "      <button class=\"colab-df-convert\" onclick=\"convertToInteractive('df-df55ed1b-35dc-428a-87b7-f582072ef8a8')\"\n",
              "              title=\"Convert this dataframe to an interactive table.\"\n",
              "              style=\"display:none;\">\n",
              "        \n",
              "  <svg xmlns=\"http://www.w3.org/2000/svg\" height=\"24px\"viewBox=\"0 0 24 24\"\n",
              "       width=\"24px\">\n",
              "    <path d=\"M0 0h24v24H0V0z\" fill=\"none\"/>\n",
              "    <path d=\"M18.56 5.44l.94 2.06.94-2.06 2.06-.94-2.06-.94-.94-2.06-.94 2.06-2.06.94zm-11 1L8.5 8.5l.94-2.06 2.06-.94-2.06-.94L8.5 2.5l-.94 2.06-2.06.94zm10 10l.94 2.06.94-2.06 2.06-.94-2.06-.94-.94-2.06-.94 2.06-2.06.94z\"/><path d=\"M17.41 7.96l-1.37-1.37c-.4-.4-.92-.59-1.43-.59-.52 0-1.04.2-1.43.59L10.3 9.45l-7.72 7.72c-.78.78-.78 2.05 0 2.83L4 21.41c.39.39.9.59 1.41.59.51 0 1.02-.2 1.41-.59l7.78-7.78 2.81-2.81c.8-.78.8-2.07 0-2.86zM5.41 20L4 18.59l7.72-7.72 1.47 1.35L5.41 20z\"/>\n",
              "  </svg>\n",
              "      </button>\n",
              "      \n",
              "  <style>\n",
              "    .colab-df-container {\n",
              "      display:flex;\n",
              "      flex-wrap:wrap;\n",
              "      gap: 12px;\n",
              "    }\n",
              "\n",
              "    .colab-df-convert {\n",
              "      background-color: #E8F0FE;\n",
              "      border: none;\n",
              "      border-radius: 50%;\n",
              "      cursor: pointer;\n",
              "      display: none;\n",
              "      fill: #1967D2;\n",
              "      height: 32px;\n",
              "      padding: 0 0 0 0;\n",
              "      width: 32px;\n",
              "    }\n",
              "\n",
              "    .colab-df-convert:hover {\n",
              "      background-color: #E2EBFA;\n",
              "      box-shadow: 0px 1px 2px rgba(60, 64, 67, 0.3), 0px 1px 3px 1px rgba(60, 64, 67, 0.15);\n",
              "      fill: #174EA6;\n",
              "    }\n",
              "\n",
              "    [theme=dark] .colab-df-convert {\n",
              "      background-color: #3B4455;\n",
              "      fill: #D2E3FC;\n",
              "    }\n",
              "\n",
              "    [theme=dark] .colab-df-convert:hover {\n",
              "      background-color: #434B5C;\n",
              "      box-shadow: 0px 1px 3px 1px rgba(0, 0, 0, 0.15);\n",
              "      filter: drop-shadow(0px 1px 2px rgba(0, 0, 0, 0.3));\n",
              "      fill: #FFFFFF;\n",
              "    }\n",
              "  </style>\n",
              "\n",
              "      <script>\n",
              "        const buttonEl =\n",
              "          document.querySelector('#df-df55ed1b-35dc-428a-87b7-f582072ef8a8 button.colab-df-convert');\n",
              "        buttonEl.style.display =\n",
              "          google.colab.kernel.accessAllowed ? 'block' : 'none';\n",
              "\n",
              "        async function convertToInteractive(key) {\n",
              "          const element = document.querySelector('#df-df55ed1b-35dc-428a-87b7-f582072ef8a8');\n",
              "          const dataTable =\n",
              "            await google.colab.kernel.invokeFunction('convertToInteractive',\n",
              "                                                     [key], {});\n",
              "          if (!dataTable) return;\n",
              "\n",
              "          const docLinkHtml = 'Like what you see? Visit the ' +\n",
              "            '<a target=\"_blank\" href=https://colab.research.google.com/notebooks/data_table.ipynb>data table notebook</a>'\n",
              "            + ' to learn more about interactive tables.';\n",
              "          element.innerHTML = '';\n",
              "          dataTable['output_type'] = 'display_data';\n",
              "          await google.colab.output.renderOutput(dataTable, element);\n",
              "          const docLink = document.createElement('div');\n",
              "          docLink.innerHTML = docLinkHtml;\n",
              "          element.appendChild(docLink);\n",
              "        }\n",
              "      </script>\n",
              "    </div>\n",
              "  </div>\n",
              "  "
            ]
          },
          "metadata": {},
          "execution_count": 4
        }
      ],
      "source": [
        "import pandas as pd\n",
        "red_wine = pd.read_csv('data_m3/datasets/red-wine.csv')\n",
        "red_wine.head(10)"
      ]
    },
    {
      "cell_type": "markdown",
      "metadata": {
        "id": "1LeKwVbQGG8h"
      },
      "source": [
        "Podemos usar el atributo `shape` de Numpy para obtener el número de filas y columnas de un array."
      ]
    },
    {
      "cell_type": "code",
      "execution_count": 5,
      "metadata": {
        "id": "CdE7rHAPGG8h",
        "tags": []
      },
      "outputs": [],
      "source": [
        "[filas, columnas] = red_wine.shape # (rows, columns)"
      ]
    },
    {
      "cell_type": "markdown",
      "metadata": {
        "id": "bYNMY72NGG8h"
      },
      "source": [
        "## 1) Dimensiones de la entrada #\n",
        "\n",
        "El problema consiste en predecir la calidad del vino a partir de las medidas físico-químicas, de tal manera que, una vez entrenada, sea la red neuronal la que juegue el papel de los expertos catadores!!. El objetivo es el parámetro `'quality'`, almacenado en la última columna de la base de datos. Las columnas restantes son las características o descriptores del vino en cuestión. ¿Cómo deberíamos configurar el parámetro `input_shape` para realizar un modelo en Keras?. Recuerde que `input_shape` debe ser una lista."
      ]
    },
    {
      "cell_type": "code",
      "execution_count": 6,
      "metadata": {
        "id": "yF5YgSp1GG8i",
        "lines_to_next_cell": 0,
        "tags": [],
        "colab": {
          "base_uri": "https://localhost:8080/"
        },
        "outputId": "7083b6f1-bd48-4114-9ebb-6bc17ad1b2d0"
      },
      "outputs": [
        {
          "output_type": "stream",
          "name": "stdout",
          "text": [
            "[11]\n",
            "<class 'list'>\n"
          ]
        }
      ],
      "source": [
        "# EJERCICIO 1 --------- TO DO\n",
        "\n",
        "my_input_shape = [columnas-1]\n",
        "print(my_input_shape)\n",
        "\n",
        "print(type(my_input_shape))"
      ]
    },
    {
      "cell_type": "markdown",
      "metadata": {
        "id": "ZugSCebfGG8i"
      },
      "source": [
        "## 2) Definir el modelo\n",
        "\n",
        "Ahora vamos a definir un modelo lineal basado en una única neurona (unidad lineal) para esta tarea. Configure adecuadamente los parámetros de `layers.Dense`."
      ]
    },
    {
      "cell_type": "code",
      "execution_count": 7,
      "metadata": {
        "id": "XNx7785MGG8j",
        "lines_to_next_cell": 0,
        "tags": []
      },
      "outputs": [],
      "source": [
        "# EJERCICIO 2 --------- TO DO\n",
        "model = keras.Sequential(layers.Dense(units=1,input_shape = my_input_shape))\n"
      ]
    },
    {
      "cell_type": "markdown",
      "metadata": {
        "id": "hwxHTyf7GG8j"
      },
      "source": [
        "## 3) Extracción de los pesos\n",
        "Keras representa los datos de entrada, salida y los pesos de una red neuronal como **tensores**. Los tensores son el tipo de dato de TensorFlow's para la gestión de matrices o arrays multidimensionales. Es necesario utilizar esta nueva estructura para poder adaptar el modelo al esquema computacional de Tensorflow, y en particular al esquema computacional de las GPUs. Cuando definimos el argumento `input_shape`, estamos configurando las dimensiones del tensor necesario para almacenar cada experimento de la base de datos. Por ejemplo, si configuramos `input_shape=[3]` estamos creando un tensor que admite tres características por cada muestra de la base de datos, que suele almacenarse en una fila. Por otro lado, los pesos son almacenados en el atributo `weights` del modelo, es decir (`model.weights`), como una lista de tensores. Obtenga y muestre los pesos del modelo que definió anteriormente. \n",
        "\n",
        "<blockquote style=\"margin-right:auto; margin-left:auto; background-color: #ebf9ff; padding: 1em; margin:24px;\">\n",
        "<strong>Nota:</strong><br> \n",
        "\n",
        "La función `print` ya está preparada para visualizar los pesos.\n",
        "</blockquote>"
      ]
    },
    {
      "cell_type": "code",
      "execution_count": 8,
      "metadata": {
        "id": "SbGLZy4MGG8j",
        "lines_to_next_cell": 0,
        "tags": [],
        "colab": {
          "base_uri": "https://localhost:8080/"
        },
        "outputId": "7021a3eb-a25b-4115-8bea-48ab9cec40ee"
      },
      "outputs": [
        {
          "output_type": "stream",
          "name": "stdout",
          "text": [
            "Weights:\n",
            "<tf.Variable 'dense/kernel:0' shape=(11, 1) dtype=float32, numpy=\n",
            "array([[ 0.12618816],\n",
            "       [-0.31878224],\n",
            "       [ 0.6116019 ],\n",
            "       [-0.0527547 ],\n",
            "       [ 0.50850326],\n",
            "       [-0.1828602 ],\n",
            "       [-0.23411646],\n",
            "       [-0.03419155],\n",
            "       [-0.41715094],\n",
            "       [ 0.45913798],\n",
            "       [ 0.03154778]], dtype=float32)>\n",
            "\n",
            "Bias:\n",
            "<tf.Variable 'dense/bias:0' shape=(1,) dtype=float32, numpy=array([0.], dtype=float32)>\n"
          ]
        }
      ],
      "source": [
        "# EJERCICIO 3 --------- TO DO\n",
        "w, b = model.weights\n",
        "print(\"Weights:\\n{}\\n\\nBias:\\n{}\".format(w, b))"
      ]
    },
    {
      "cell_type": "markdown",
      "metadata": {
        "id": "rdBRCsgeGG8k"
      },
      "source": [
        "## 4) Salida de un modelo lineal, sin entrenamiento\n",
        " \n",
        "El modelo lineal planteado es un caso particular del problema clásico de regresión, donde el objetivo es predecir un valor numérico que en principio no está acotado ni condicionado a ningún rango de valores concreto. El problema tradicionalmente se resuelve mediante mínimos cuadrados, y la solución es la recta (o la curva) que mejor se ajusta a los datos. En la celda siguiente asumimos un modelo lineal, con una única neurona y una única característica de entrada, sin ningún proceso de ajuste. \n",
        "\n",
        "En la inicialización de las variables, Keras ajusta los pesos aleatoriamente. En la siguiente celda se ejecuta la red sobre unos datos de entrada `x` y se observa que la respuesta de la red es una recta. Si ejecutamos la siguiente celda varias veces veremos el efecto de los pesos inicializados aleatoriamente."
      ]
    },
    {
      "cell_type": "code",
      "execution_count": 12,
      "metadata": {
        "id": "VA92fdtiGG8k",
        "lines_to_next_cell": 0,
        "tags": [],
        "colab": {
          "base_uri": "https://localhost:8080/",
          "height": 314
        },
        "outputId": "3e6219ed-6b86-4410-ef49-93d7f6b8edb9"
      },
      "outputs": [
        {
          "output_type": "stream",
          "name": "stdout",
          "text": [
            "4/4 [==============================] - 0s 3ms/step\n"
          ]
        },
        {
          "output_type": "display_data",
          "data": {
            "text/plain": [
              "<Figure size 432x288 with 1 Axes>"
            ],
            "image/png": "[encoded data removed]"
          },
          "metadata": {}
        }
      ],
      "source": [
        "# EJERCICIO 4 --------- EJECUTAR VARIAS VECES\n",
        "model = keras.Sequential([\n",
        "    layers.Dense(1, input_shape=[1]),\n",
        "])\n",
        "\n",
        "x = tf.linspace(-1.0, 1.0, 100)\n",
        "y = model.predict(x)\n",
        "\n",
        "plt.figure()\n",
        "plt.plot(x, y, 'k')\n",
        "plt.xlim(-1, 1)\n",
        "plt.ylim(-1, 1)\n",
        "plt.xlabel(\"Input: x\")\n",
        "plt.ylabel(\"Target y\")\n",
        "w, b = model.weights # you could also use model.get_weights() here\n",
        "plt.title(\"Weight: {:0.2f}\\nBias: {:0.2f}\".format(w[0][0], b[0]))\n",
        "plt.show()"
      ]
    },
    {
      "cell_type": "markdown",
      "metadata": {
        "id": "It2D_zv00dmC"
      },
      "source": [
        "<blockquote style=\"margin-right:auto; margin-left:auto; background-color: #ebf9ff; padding: 1em; margin:24px;\">\n",
        "<strong>Nota:</strong><br> \n",
        "\n",
        "Nota: en esta aplicación, el proceso de entrenamiento sería el proceso de ajuste, que equivale a  un problema de regresión tradicional.\n",
        "</blockquote>"
      ]
    },
    {
      "cell_type": "markdown",
      "metadata": {
        "id": "ud250_ysTPry"
      },
      "source": [
        "# Modelo no lineal\n",
        "\n",
        "En el tutorial se han configurado pilas de capas que conforman un modelo secuencial. Como se ha comentado, al añadir funciones de activación en las capas dotamos a la red de la herramienta adecuada para aprender relaciones no lineales en los datos, construyendo estructuras complejas para extraer la información. A continuación vamos a construir una red con varias capas internas, explorando las funciones de activación. En este caso usaremos una base de datos denominada `Concrete`, la cual contiene las proporciones de cada uno de los componentes para la fabricación de hormigón, junto con la resistencia a la compresión. La resistencia es el parámetro a predecir. A continuación se carga la base de datos:"
      ]
    },
    {
      "cell_type": "code",
      "execution_count": null,
      "metadata": {
        "id": "dykuYwnt0dmE",
        "tags": [],
        "colab": {
          "base_uri": "https://localhost:8080/",
          "height": 215
        },
        "outputId": "2a873743-33a1-42f7-ba48-5734e2172a03"
      },
      "outputs": [
        {
          "output_type": "execute_result",
          "data": {
            "text/plain": [
              "   Cement  BlastFurnaceSlag  FlyAsh  Water  Superplasticizer  CoarseAggregate  \\\n",
              "0   540.0               0.0     0.0  162.0               2.5           1040.0   \n",
              "1   540.0               0.0     0.0  162.0               2.5           1055.0   \n",
              "2   332.5             142.5     0.0  228.0               0.0            932.0   \n",
              "3   332.5             142.5     0.0  228.0               0.0            932.0   \n",
              "4   198.6             132.4     0.0  192.0               0.0            978.4   \n",
              "\n",
              "   FineAggregate  Age  CompressiveStrength  \n",
              "0          676.0   28                79.99  \n",
              "1          676.0   28                61.89  \n",
              "2          594.0  270                40.27  \n",
              "3          594.0  365                41.05  \n",
              "4          825.5  360                44.30  "
            ],
            "text/html": [
              "\n",
              "  <div id=\"df-4306e63d-8ef1-466e-877e-db50166af99c\">\n",
              "    <div class=\"colab-df-container\">\n",
              "      <div>\n",
              "<style scoped>\n",
              "    .dataframe tbody tr th:only-of-type {\n",
              "        vertical-align: middle;\n",
              "    }\n",
              "\n",
              "    .dataframe tbody tr th {\n",
              "        vertical-align: top;\n",
              "    }\n",
              "\n",
              "    .dataframe thead th {\n",
              "        text-align: right;\n",
              "    }\n",
              "</style>\n",
              "<table border=\"1\" class=\"dataframe\">\n",
              "  <thead>\n",
              "    <tr style=\"text-align: right;\">\n",
              "      <th></th>\n",
              "      <th>Cement</th>\n",
              "      <th>BlastFurnaceSlag</th>\n",
              "      <th>FlyAsh</th>\n",
              "      <th>Water</th>\n",
              "      <th>Superplasticizer</th>\n",
              "      <th>CoarseAggregate</th>\n",
              "      <th>FineAggregate</th>\n",
              "      <th>Age</th>\n",
              "      <th>CompressiveStrength</th>\n",
              "    </tr>\n",
              "  </thead>\n",
              "  <tbody>\n",
              "    <tr>\n",
              "      <th>0</th>\n",
              "      <td>540.0</td>\n",
              "      <td>0.0</td>\n",
              "      <td>0.0</td>\n",
              "      <td>162.0</td>\n",
              "      <td>2.5</td>\n",
              "      <td>1040.0</td>\n",
              "      <td>676.0</td>\n",
              "      <td>28</td>\n",
              "      <td>79.99</td>\n",
              "    </tr>\n",
              "    <tr>\n",
              "      <th>1</th>\n",
              "      <td>540.0</td>\n",
              "      <td>0.0</td>\n",
              "      <td>0.0</td>\n",
              "      <td>162.0</td>\n",
              "      <td>2.5</td>\n",
              "      <td>1055.0</td>\n",
              "      <td>676.0</td>\n",
              "      <td>28</td>\n",
              "      <td>61.89</td>\n",
              "    </tr>\n",
              "    <tr>\n",
              "      <th>2</th>\n",
              "      <td>332.5</td>\n",
              "      <td>142.5</td>\n",
              "      <td>0.0</td>\n",
              "      <td>228.0</td>\n",
              "      <td>0.0</td>\n",
              "      <td>932.0</td>\n",
              "      <td>594.0</td>\n",
              "      <td>270</td>\n",
              "      <td>40.27</td>\n",
              "    </tr>\n",
              "    <tr>\n",
              "      <th>3</th>\n",
              "      <td>332.5</td>\n",
              "      <td>142.5</td>\n",
              "      <td>0.0</td>\n",
              "      <td>228.0</td>\n",
              "      <td>0.0</td>\n",
              "      <td>932.0</td>\n",
              "      <td>594.0</td>\n",
              "      <td>365</td>\n",
              "      <td>41.05</td>\n",
              "    </tr>\n",
              "    <tr>\n",
              "      <th>4</th>\n",
              "      <td>198.6</td>\n",
              "      <td>132.4</td>\n",
              "      <td>0.0</td>\n",
              "      <td>192.0</td>\n",
              "      <td>0.0</td>\n",
              "      <td>978.4</td>\n",
              "      <td>825.5</td>\n",
              "      <td>360</td>\n",
              "      <td>44.30</td>\n",
              "    </tr>\n",
              "  </tbody>\n",
              "</table>\n",
              "</div>\n",
              "      <button class=\"colab-df-convert\" onclick=\"convertToInteractive('df-4306e63d-8ef1-466e-877e-db50166af99c')\"\n",
              "              title=\"Convert this dataframe to an interactive table.\"\n",
              "              style=\"display:none;\">\n",
              "        \n",
              "  <svg xmlns=\"http://www.w3.org/2000/svg\" height=\"24px\"viewBox=\"0 0 24 24\"\n",
              "       width=\"24px\">\n",
              "    <path d=\"M0 0h24v24H0V0z\" fill=\"none\"/>\n",
              "    <path d=\"M18.56 5.44l.94 2.06.94-2.06 2.06-.94-2.06-.94-.94-2.06-.94 2.06-2.06.94zm-11 1L8.5 8.5l.94-2.06 2.06-.94-2.06-.94L8.5 2.5l-.94 2.06-2.06.94zm10 10l.94 2.06.94-2.06 2.06-.94-2.06-.94-.94-2.06-.94 2.06-2.06.94z\"/><path d=\"M17.41 7.96l-1.37-1.37c-.4-.4-.92-.59-1.43-.59-.52 0-1.04.2-1.43.59L10.3 9.45l-7.72 7.72c-.78.78-.78 2.05 0 2.83L4 21.41c.39.39.9.59 1.41.59.51 0 1.02-.2 1.41-.59l7.78-7.78 2.81-2.81c.8-.78.8-2.07 0-2.86zM5.41 20L4 18.59l7.72-7.72 1.47 1.35L5.41 20z\"/>\n",
              "  </svg>\n",
              "      </button>\n",
              "      \n",
              "  <style>\n",
              "    .colab-df-container {\n",
              "      display:flex;\n",
              "      flex-wrap:wrap;\n",
              "      gap: 12px;\n",
              "    }\n",
              "\n",
              "    .colab-df-convert {\n",
              "      background-color: #E8F0FE;\n",
              "      border: none;\n",
              "      border-radius: 50%;\n",
              "      cursor: pointer;\n",
              "      display: none;\n",
              "      fill: #1967D2;\n",
              "      height: 32px;\n",
              "      padding: 0 0 0 0;\n",
              "      width: 32px;\n",
              "    }\n",
              "\n",
              "    .colab-df-convert:hover {\n",
              "      background-color: #E2EBFA;\n",
              "      box-shadow: 0px 1px 2px rgba(60, 64, 67, 0.3), 0px 1px 3px 1px rgba(60, 64, 67, 0.15);\n",
              "      fill: #174EA6;\n",
              "    }\n",
              "\n",
              "    [theme=dark] .colab-df-convert {\n",
              "      background-color: #3B4455;\n",
              "      fill: #D2E3FC;\n",
              "    }\n",
              "\n",
              "    [theme=dark] .colab-df-convert:hover {\n",
              "      background-color: #434B5C;\n",
              "      box-shadow: 0px 1px 3px 1px rgba(0, 0, 0, 0.15);\n",
              "      filter: drop-shadow(0px 1px 2px rgba(0, 0, 0, 0.3));\n",
              "      fill: #FFFFFF;\n",
              "    }\n",
              "  </style>\n",
              "\n",
              "      <script>\n",
              "        const buttonEl =\n",
              "          document.querySelector('#df-4306e63d-8ef1-466e-877e-db50166af99c button.colab-df-convert');\n",
              "        buttonEl.style.display =\n",
              "          google.colab.kernel.accessAllowed ? 'block' : 'none';\n",
              "\n",
              "        async function convertToInteractive(key) {\n",
              "          const element = document.querySelector('#df-4306e63d-8ef1-466e-877e-db50166af99c');\n",
              "          const dataTable =\n",
              "            await google.colab.kernel.invokeFunction('convertToInteractive',\n",
              "                                                     [key], {});\n",
              "          if (!dataTable) return;\n",
              "\n",
              "          const docLinkHtml = 'Like what you see? Visit the ' +\n",
              "            '<a target=\"_blank\" href=https://colab.research.google.com/notebooks/data_table.ipynb>data table notebook</a>'\n",
              "            + ' to learn more about interactive tables.';\n",
              "          element.innerHTML = '';\n",
              "          dataTable['output_type'] = 'display_data';\n",
              "          await google.colab.output.renderOutput(dataTable, element);\n",
              "          const docLink = document.createElement('div');\n",
              "          docLink.innerHTML = docLinkHtml;\n",
              "          element.appendChild(docLink);\n",
              "        }\n",
              "      </script>\n",
              "    </div>\n",
              "  </div>\n",
              "  "
            ]
          },
          "metadata": {},
          "execution_count": 59
        }
      ],
      "source": [
        "import pandas as pd\n",
        "concrete = pd.read_csv('data_m3/datasets/concrete.csv')\n",
        "concrete.head()"
      ]
    },
    {
      "cell_type": "markdown",
      "metadata": {
        "id": "x-ZIbesq0dmF"
      },
      "source": [
        "## 1) Dimensiones de la entrada\n",
        "La variable a determinar es la columna `'Strength'`, las columnas restantes son las características que usaremos como entrada. ¿Cual es la dimensión de la entrada?"
      ]
    },
    {
      "cell_type": "code",
      "execution_count": null,
      "metadata": {
        "id": "mmFV5TFv0dmF",
        "lines_to_next_cell": 2,
        "tags": [],
        "colab": {
          "base_uri": "https://localhost:8080/"
        },
        "outputId": "f3495a1c-f3be-4fad-adc0-2e2ad637dac5"
      },
      "outputs": [
        {
          "output_type": "stream",
          "name": "stdout",
          "text": [
            "[8]\n",
            "<class 'list'>\n"
          ]
        }
      ],
      "source": [
        "# EJERCICIO 5 --------- TO DO\n",
        "filas, columnas = concrete.shape\n",
        "input_shape_concrete = [columnas-1]\n",
        "print(input_shape_concrete)\n",
        "\n",
        "print(type(input_shape_concrete))"
      ]
    },
    {
      "cell_type": "markdown",
      "metadata": {
        "id": "iDy6NUc00dmH"
      },
      "source": [
        "## 2) Definición del modelo\n",
        "A continuación vamos a crear un modelo con tres capas ocultas, cada una con 512 unidades y una función de activación ReLU. Es necesario incluir una capa de salida con una única unidad y sin activación, ya que los problemas de regresión no tienen limitaciones en la salida. En la primera capa hay que especificar las dimensiones de la entrada, que se almacenan en `input_shape`."
      ]
    },
    {
      "cell_type": "code",
      "execution_count": null,
      "metadata": {
        "id": "lwFCvvmn0dmH",
        "lines_to_next_cell": 0,
        "tags": [],
        "colab": {
          "base_uri": "https://localhost:8080/"
        },
        "outputId": "532cc2db-f329-4b2f-ff0e-fe55071087c4"
      },
      "outputs": [
        {
          "output_type": "stream",
          "name": "stdout",
          "text": [
            "Model: \"sequential_13\"\n",
            "_________________________________________________________________\n",
            " Layer (type)                Output Shape              Param #   \n",
            "=================================================================\n",
            " dense_24 (Dense)            (None, 512)               4608      \n",
            "                                                                 \n",
            " dense_25 (Dense)            (None, 512)               262656    \n",
            "                                                                 \n",
            " dense_26 (Dense)            (None, 512)               262656    \n",
            "                                                                 \n",
            " dense_27 (Dense)            (None, 1)                 513       \n",
            "                                                                 \n",
            "=================================================================\n",
            "Total params: 530,433\n",
            "Trainable params: 530,433\n",
            "Non-trainable params: 0\n",
            "_________________________________________________________________\n"
          ]
        }
      ],
      "source": [
        "# EJERCICIO 6 --------- TO DO\n",
        "model = keras.Sequential([\n",
        "    # the hidden ReLU layers\n",
        "    layers.Dense(units=512, activation='relu', input_shape=input_shape_concrete),\n",
        "    layers.Dense(units=512, activation='relu'),\n",
        "    layers.Dense(units=512, activation='relu'),\n",
        "    # the linear output layer \n",
        "    layers.Dense(units=1),\n",
        "])\n",
        "\n",
        "model.summary()"
      ]
    },
    {
      "cell_type": "markdown",
      "metadata": {
        "id": "1vnXeWf90dmI"
      },
      "source": [
        "## 3) Capas de activación\n",
        "Lo normal es incluir la función de activación en la definición de la capa `Dense`, como se ha hecho en el caso anterior con el argumento `activation`. Otra opción es configurar la función de activación como una capa de activación, esto es más flexible, porque a veces interesa hacer transformaciones intermedias, entre las unidades lineales y la activación. En este último caso quedaría así:\n",
        "```\n",
        "layers.Dense(units=8),\n",
        "layers.Activation('relu')\n",
        "```\n",
        "lo cual es equivalente a:\n",
        "\n",
        "`layers.Dense(units=8, activation='relu')`.\n",
        "\n",
        "Modifique el código para que cada activación actúe como una capa de activación independiente, la cual no utiliza neuronas."
      ]
    },
    {
      "cell_type": "code",
      "execution_count": null,
      "metadata": {
        "id": "owkvhCpO0dmI",
        "lines_to_next_cell": 0,
        "tags": [],
        "colab": {
          "base_uri": "https://localhost:8080/"
        },
        "outputId": "f333615f-1a1b-448d-afae-19152266633d"
      },
      "outputs": [
        {
          "output_type": "stream",
          "name": "stdout",
          "text": [
            "Model: \"sequential_21\"\n",
            "_________________________________________________________________\n",
            " Layer (type)                Output Shape              Param #   \n",
            "=================================================================\n",
            " dense_58 (Dense)            (None, 512)               4608      \n",
            "                                                                 \n",
            " activation_17 (Activation)  (None, 512)               0         \n",
            "                                                                 \n",
            " dense_59 (Dense)            (None, 512)               262656    \n",
            "                                                                 \n",
            " activation_18 (Activation)  (None, 512)               0         \n",
            "                                                                 \n",
            " dense_60 (Dense)            (None, 512)               262656    \n",
            "                                                                 \n",
            " activation_19 (Activation)  (None, 512)               0         \n",
            "                                                                 \n",
            " dense_61 (Dense)            (None, 1)                 513       \n",
            "                                                                 \n",
            "=================================================================\n",
            "Total params: 530,433\n",
            "Trainable params: 530,433\n",
            "Non-trainable params: 0\n",
            "_________________________________________________________________\n"
          ]
        }
      ],
      "source": [
        "# EJERCICIO 7 --------- TO DO\n",
        "model =keras.Sequential([\n",
        "    # the hidden ReLU layers\n",
        "    layers.Dense(units=512, input_shape=input_shape_concrete),\n",
        "    layers.Activation('relu'),\n",
        "    layers.Dense(units=512),\n",
        "    layers.Activation('relu'),\n",
        "    layers.Dense(units=512),\n",
        "    layers.Activation('relu'),\n",
        "    # the linear output layer \n",
        "    layers.Dense(units=1),\n",
        "])\n",
        "\n",
        "model.summary()\n",
        "\n"
      ]
    },
    {
      "cell_type": "markdown",
      "metadata": {
        "id": "QseAkKlR0dmJ"
      },
      "source": [
        "## 4) Alternativas a ReLU\n",
        "Existen muchas variantes a la función de activación  `'relu'`, por ejemplo: `'elu'`, `'selu'`, `'swish'`. Todas estas están implementadas en Keras. En ocasiones, dependiendo del problema, unas funcionan mejor que otras. Afortunadamente es sencillo cambiar y experimentar con diferentes funciones, aún así, ReLU suele ser la más utilizada en la mayoría de problemas y suele ser la mejor forma de comenzar. En el siguiente código se representan algunas [funciones de activación](https://www.tensorflow.org/api_docs/python/tf/keras/activations), pruébelas y represéntelas en gráficas diferentes para que se puedan comparar"
      ]
    },
    {
      "cell_type": "code",
      "execution_count": 13,
      "metadata": {
        "id": "oyYXjY6P0dmJ",
        "lines_to_next_cell": 0,
        "tags": [],
        "colab": {
          "base_uri": "https://localhost:8080/",
          "height": 729
        },
        "outputId": "75c8d6c9-f231-4006-fa22-743409406960"
      },
      "outputs": [
        {
          "output_type": "display_data",
          "data": {
            "text/plain": [
              "<Figure size 720x720 with 4 Axes>"
            ],
            "image/png": "[encoded data removed]"
          },
          "metadata": {}
        }
      ],
      "source": [
        "# EJERCICIO 8 --------- TO DO\n",
        "# Completar y/o modificar el código para que se muestre un gráfico con cada una de las funciones de activación.\n",
        "# usar 'relu', 'elu', 'selu', 'swish'... o alguna más y representarlas\n",
        "activation_layer = layers.Activation('relu')\n",
        "\n",
        "x = tf.linspace(-3.0, 3.0, 100)\n",
        "y_relu = activation_layer(x) # once created, a layer is callable just like a function\n",
        "\n",
        "plt.figure(figsize=(10,10))\n",
        "plt.subplot(2, 2, 1)\n",
        "plt.plot(x, y_relu)\n",
        "plt.title('Relu')\n",
        "plt.xlim(-3, 3)\n",
        "plt.xlabel(\"Input\")\n",
        "plt.ylabel(\"Output\")\n",
        "#\n",
        "plt.subplot(2, 2, 2)\n",
        "plt.plot(x, y_relu)\n",
        "plt.title('Relu')\n",
        "plt.xlim(-3, 3)\n",
        "plt.xlabel(\"Input\")\n",
        "plt.ylabel(\"Output\")\n",
        "#\n",
        "plt.subplot(2, 2, 3)\n",
        "plt.plot(x, y_relu)\n",
        "plt.title('Relu')\n",
        "plt.xlim(-3, 3)\n",
        "plt.xlabel(\"Input\")\n",
        "plt.ylabel(\"Output\")\n",
        "#\n",
        "plt.subplot(2, 2, 4)\n",
        "plt.plot(x, y_relu)\n",
        "plt.title('Relu')\n",
        "plt.xlim(-3, 3)\n",
        "plt.xlabel(\"Input\")\n",
        "plt.ylabel(\"Output\")\n",
        "\n",
        "plt.show()"
      ]
    },
    {
      "cell_type": "markdown",
      "metadata": {
        "id": "M4HbrzpfDD3S"
      },
      "source": [
        "# Preguntas\n",
        "\n",
        "**La adquisición de las competencias asociadas a las prácticas requieren una explicación propia y rigurosa. Las copias y traducciones literales no demuestran la adquisición de las competencias, por tanto no se considerarán válidas (consultar la rúbrica).**"
      ]
    },
    {
      "cell_type": "markdown",
      "metadata": {
        "id": "FxYAkymMFMpe",
        "tags": []
      },
      "source": [
        "<div class=\"alert alert-success\">\n",
        "1. ¿Por qué se requieren funciones de activación?\n",
        "</div>"
      ]
    },
    {
      "cell_type": "markdown",
      "metadata": {
        "id": "En69pUeYFMpe"
      },
      "source": [
        "%%%% TO DO %%%%% \n",
        "Las funciones de activación son funciones matemáticas no lineales empleadas a la salida de una capa de la red. Estas funciones se emplean para romper el hecho de que las relaciones dentro de la neurona sean lineales.\n",
        "\n",
        "Es decir, es una herramieta usada para romper la linealidad inherente de las redes neuronales (fruto de obtener la salida como la ecuación de una recta) para proporcionarle flexibilidad."
      ]
    },
    {
      "cell_type": "markdown",
      "metadata": {
        "id": "5oTLfgcUFMpe"
      },
      "source": [
        "\n",
        "<div class=\"alert alert-success\">\n",
        "2. ¿Cuál es la diferencia entre una unidad lineal y una ReLu?\n",
        "</div>"
      ]
    },
    {
      "cell_type": "markdown",
      "metadata": {
        "id": "L_TqC1ryFMpe"
      },
      "source": [
        "%%%% TO DO %%%%%\n",
        "\n",
        "Llamamos unidad lineal al hecho de tener una única neurona. El hecho de denominarlo de esta forma es porque si solo usamos una neurona, unicamente podemos obtener resultados lineales en base a la ecuación de la recta \"y=wx +b\".\n",
        "\n",
        "Una ReLu es una función de activavicón ubicada a la salida de cada una de las capas. Estas funciones de activación se usan precisamente para romper con la linealidad propia de unidad lineal.\n",
        "\n",
        "Dicho esto, podemos determinar que la diferencia entre estos dos terminos es que el primero es la estruxtura básica y mínima de las redes neuronales (una neurona), y la segunda es una herramienta que empleamos para darle mayor flexibilidad a las neuronas, evitando el hecho de que por defecto proporcionen resultados lineales.\n"
      ]
    },
    {
      "cell_type": "markdown",
      "metadata": {
        "id": "YuI_bue5FMpf",
        "tags": []
      },
      "source": [
        "<div class=\"alert alert-success\">\n",
        "3. Sea un modelo como el siguiente:\n",
        "\n",
        "``` python\n",
        "\n",
        "model = keras.Sequential([\n",
        "layers.Dense(32, activation='relu', input_shape=[8]),\n",
        "layers.Dense(32, activation='relu'),\n",
        "layers.Dense(1)])\n",
        "```\n",
        "    \n",
        "¿Cuál es el número de capas ocultas?\n",
        "\n",
        "</div>"
      ]
    },
    {
      "cell_type": "markdown",
      "metadata": {
        "id": "vYK3r2VFFMpf"
      },
      "source": [
        "%%%% TO DO %%%%% \n",
        "\n",
        "Las capas ocultas son todas aquellas capas encontradas entre los datos de entrada y la capa de salida, desde la cual obtenemos el resultado de la red.\n",
        "\n",
        "En este ejemplo, tenemos dos capas ocultas, con 32 neuronas cada una y conexiones de tipo denso. El hecho de que sean capas densas, implica que la salida de cada neurona se conecta con todas las neuronas de la capa siguiente, dando una combinación \"todas con todas\".\n"
      ]
    },
    {
      "cell_type": "markdown",
      "metadata": {
        "id": "FuBVTXS0FMpf",
        "tags": []
      },
      "source": [
        "<div class=\"alert alert-success\">\n",
        "4. Cuál es el cometido de la función: `model.predict`\n",
        "</div>"
      ]
    },
    {
      "cell_type": "markdown",
      "metadata": {
        "id": "Xn1wcUmGFMpf",
        "tags": []
      },
      "source": [
        "%%%% TO DO %%%%% \n",
        "\n",
        "La función predict() nos permite tener una prediccion\n",
        "de la salida de la red en base a las muestras de entrada.\n",
        "\n",
        "Para hacer esto, la función realiza una serie de cálculos sobre remesas o lotes. \n",
        "Trabaja con lotes por la propia construccion de la función, ya que internamente está diseñada para el procesamiento de datos en lotes con un gran número de entradas. \n",
        "\n",
        "Es interesante recalcar, que en base a la explicación de la función, no se tolera el uso de la función dentro de bucles que iteren sobre sus datos y tengan pocas cantidades de entradas simultaneas.\n",
        "Para estos casos donde tenemos lotes pequeños, recomiendan el uso de la funcion \"__call__()\" para poder tener una ejecución más rápida.\n"
      ]
    },
    {
      "cell_type": "markdown",
      "metadata": {
        "id": "juQecbNBFMpf",
        "tags": []
      },
      "source": [
        "<div class=\"alert alert-success\">\n",
        "5. En el ejercicio 4. ¿Por qué cada vez que se ejecuta sale un resultado diferente?\n",
        "\n",
        "\n",
        "</div>"
      ]
    },
    {
      "cell_type": "markdown",
      "metadata": {
        "id": "uLYrXNMvFMpf"
      },
      "source": [
        "%%%% TO DO %%%%% \n",
        "\n",
        "El hecho de que tras cada ejecución tengamos un resultado diferente, se explica por el funcionamiento interno de Keras.\n",
        "\n",
        "Keras, tal y como se comenta en el apartado del ejercicio 4, establece unos pesos aleatorios para cada entrada de la neurona.\n",
        "Como al ejecutar la celda de nuevo, se ejecuta todo como si fuese la primera vez, tendremos una nueva adjudicación de pesos completamente diferente al caso previo.\n",
        "\n",
        "Esto implica necesariamente que al hacer el \"plot\" en el cual mostramos los pesos de las entradas, la ecuación de la recta \"y=wx+b\" varíe, al haber cambiado \"w\"."
      ]
    },
    {
      "cell_type": "markdown",
      "metadata": {
        "id": "XzLq4Wp6FMpg",
        "tags": []
      },
      "source": [
        "<div class=\"alert alert-success\">\n",
        "6. ¿Qué es una \"fully connected network\"? ¿La red del ejercicio 6 es de este tipo?\n",
        "</div>"
      ]
    },
    {
      "cell_type": "markdown",
      "metadata": {
        "id": "tc2ZUUgWFMpg",
        "tags": []
      },
      "source": [
        "%%%% TO DO %%%%%\n",
        "\n",
        "En el ejercicio 6 lo que tenemos es una red neuronal con 8 entradas, y 3 capas de 512 neuronas entre los datos de entrada y la salida. Es decir, 3 capas ocultas.\n",
        " \n",
        "Cada una de estas capas esta configurada de forma densa. Esto quiere decir que las conexiones entre la salida de una neurona y la entrada de la siguiente se hace todas con todas. \n",
        "\n",
        "Esta precisamente es la definición de una red neuronal de tipo \"fully connected\", el tener una red cuyas capas presenten una conexion de tipo denso.\n"
      ]
    },
    {
      "cell_type": "markdown",
      "metadata": {
        "id": "oz6GvjkcFMpg",
        "tags": []
      },
      "source": [
        "<div class=\"alert alert-success\">\n",
        "7. ¿Cuantos parámetros entrenables (pesos y bias) tiene el modelo del ejercicio 6? Explicar la fórmula que le permite calcularlo.\n",
        "</div>"
      ]
    },
    {
      "cell_type": "markdown",
      "metadata": {
        "id": "Ym_h4DvlFMpg"
      },
      "source": [
        "%%%% TO DO %%%%% \n",
        "\n",
        "Para poder determinar los parámetros del entrenamiento, debemos fijarnos en la capa de entrada. En mi caso, en la variable \"input_shape_concrete\" tengo guardado el número de columnas de la tabla menos uno, al ser la cantidad de datos de entrada de la red.\n",
        "\n",
        "Este dato es relevante, pues cada una de estas entradas tendrá asociado un peso determinado.\n",
        "\n",
        "Adicionalmente, si nos fijamos en la topografía completa de la red, observamos que tenemos una capa de entrada, una de salida, y dos capas ocultas. Este dato es clave, puesto que tendremos un bias por cada una de las capas.\n",
        "El parámetro bias no tiene ningún parámetro de entrada asociado, sino que es un parámetro que debe determinar la red y que se agrega a las demás entrada de cada neurona a modo de offset.\n",
        "\n",
        "Dicho todo esto, podemos determiar las fórmulas de de los pesos y bias de la siguiente forma:\n",
        "\n",
        "\n",
        "  pesos = parámetros_de_entrada_de_la_red.\n",
        "\n",
        "  bias = Numero_capas_ocultas + 1.\n",
        "  Donde el 1 del final proviene de el bio usado para la primera capa oculta\n"
      ]
    }
  ],
  "metadata": {
    "colab": {
      "collapsed_sections": [],
      "provenance": []
    },
    "kernelspec": {
      "display_name": "Python 3 (ipykernel)",
      "language": "python",
      "name": "python3"
    },
    "language_info": {
      "codemirror_mode": {
        "name": "ipython",
        "version": 3
      },
      "file_extension": ".py",
      "mimetype": "text/x-python",
      "name": "python",
      "nbconvert_exporter": "python",
      "pygments_lexer": "ipython3",
      "version": "3.10.6"
    },
    "vscode": {
      "interpreter": {
        "hash": "916dbcbb3f70747c44a77c7bcd40155683ae19c65e1c03b4aa3499c5328201f1"
      }
    }
  },
  "nbformat": 4,
  "nbformat_minor": 0
}